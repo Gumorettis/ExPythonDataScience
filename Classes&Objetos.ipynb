{
 "cells": [
  {
   "cell_type": "markdown",
   "id": "cdad4197-4adc-4909-86c5-d102114f5150",
   "metadata": {},
   "source": [
    "# Testando o uso de Classes em Py"
   ]
  },
  {
   "cell_type": "code",
   "execution_count": 3,
   "id": "eb1974a0-1a56-4b0c-bb26-8e19ad8c96b6",
   "metadata": {},
   "outputs": [],
   "source": [
    "class Exemplo1:\n",
    "    pass #comando para passar reto, deixando a classe Vazia"
   ]
  },
  {
   "cell_type": "code",
   "execution_count": 5,
   "id": "0a3ce856-63bd-45d0-834a-e2d8369a8ab3",
   "metadata": {},
   "outputs": [
    {
     "name": "stdout",
     "output_type": "stream",
     "text": [
      "<class '__main__.Exemplo1'>\n"
     ]
    }
   ],
   "source": [
    "#criando uma instancia da classe acima \n",
    "\n",
    "x = Exemplo1() #mesma coisa que lá no java Cliente oCli = new Cliente()\n",
    "print(type(x))"
   ]
  },
  {
   "cell_type": "code",
   "execution_count": 7,
   "id": "acd0f32f-c9a4-4e46-8610-ad3f2536415c",
   "metadata": {},
   "outputs": [],
   "source": [
    "#Trabalhando com Classes e métodos em Py\n",
    "\n",
    "class Cachorro():\n",
    "    #sempre passar o self como primeiro argumento da método/função init da classe para ela poder acessar os proprios elementos\n",
    "    #seria como um metodo construtor para acesso dos elementos da classe\n",
    "    def __init__(self):\n",
    "        #esse metodo init é executado sempre que é criado alguma instancia da classe (função de inicialização)\n",
    "        self.idade = 10\n",
    "    "
   ]
  },
  {
   "cell_type": "code",
   "execution_count": 11,
   "id": "ffaa1d51-149e-4eac-83fe-fbd7ea4a8bde",
   "metadata": {},
   "outputs": [],
   "source": [
    "#Trabalhando com Classes e métodos em Py\n",
    "\n",
    "class Cachorro():\n",
    "    def __init__(self, raca): #método obrigatório\n",
    "        self.raca = raca\n",
    "        self.idade = 10\n",
    "        print(\"Animal da raça {} criado!\".format(raca))\n",
    "    \n",
    "    #Criando abaixo demais métodos que a Classe poderá ter segundo regras de negocio\n",
    "    def envelhecer(self):\n",
    "        self.idade +=1"
   ]
  },
  {
   "cell_type": "code",
   "execution_count": 18,
   "id": "424e400a-672e-4853-966b-08cc822b8393",
   "metadata": {},
   "outputs": [],
   "source": []
  },
  {
   "cell_type": "code",
   "execution_count": 21,
   "id": "60c8b033-4b63-4e01-9a4e-87a4dff070c7",
   "metadata": {},
   "outputs": [
    {
     "name": "stdout",
     "output_type": "stream",
     "text": [
      "Animal da raça Shit criado!\n",
      "Animal da raça Lab criado!\n",
      "11\n",
      "15\n",
      "Shit\n",
      "Lab\n"
     ]
    }
   ],
   "source": [
    "#criando 2 instancias diferentes da Classe cachorro utilizando o mesmo atributo idade e raca como parametro\n",
    "dog1 = Cachorro(\"Shit\")\n",
    "dog2 = Cachorro(\"Lab\")\n",
    "dog1.envelhecer()\n",
    "\n",
    "print(dog1.idade) #pega o proprio valor Existente na classe e printa ele sem alterações\n",
    "\n",
    "#Pega o atributo idade da classe cachorro altera o valor e mostra ele alterado\n",
    "dog2.idade = 15\n",
    "print(dog2.idade)\n",
    "\n",
    "print(dog1.raca)\n",
    "print(dog2.raca)"
   ]
  },
  {
   "cell_type": "markdown",
   "id": "271bfe38-255a-45a1-a7e2-04285b3fb56b",
   "metadata": {},
   "source": [
    "# Teste 2 com Classes - Operações mat"
   ]
  },
  {
   "cell_type": "code",
   "execution_count": 1,
   "id": "fb634bcb-5e85-4005-bd98-6e7efa5c8d74",
   "metadata": {},
   "outputs": [],
   "source": [
    "#Círculo\n",
    "class Circulo():\n",
    "    def __init__(self, raio = 1): #definindo um valor pré definido para a função caso o usuário não informe um valor\n",
    "        self.raio = raio\n",
    "    \n",
    "    def calc_area(self):\n",
    "        return self.raio * self.raio * 3.14\n",
    "    "
   ]
  },
  {
   "cell_type": "code",
   "execution_count": 2,
   "id": "6347bc8f-a827-4cc6-89e3-a508c34835df",
   "metadata": {},
   "outputs": [],
   "source": [
    "c1 = Circulo()\n",
    "c2 = Circulo(2)"
   ]
  },
  {
   "cell_type": "code",
   "execution_count": 3,
   "id": "46dd4be6-1a89-4cb3-82e6-1391f481f09b",
   "metadata": {},
   "outputs": [
    {
     "name": "stdout",
     "output_type": "stream",
     "text": [
      "Area do circulo 1: 3.14\n",
      "Area do circulo 2: 12.56\n"
     ]
    }
   ],
   "source": [
    "print(\"Area do circulo 1: {}\".format(c1.calc_area()))\n",
    "print(\"Area do circulo 2: {}\".format(c2.calc_area()))"
   ]
  },
  {
   "cell_type": "markdown",
   "id": "dfe1c7c1-1256-45ec-86fd-e13e578974e5",
   "metadata": {},
   "source": [
    "# Conceito de Herança em Py"
   ]
  },
  {
   "cell_type": "code",
   "execution_count": 62,
   "id": "554eae44-3ec9-4fb3-b42e-6551e51f13e4",
   "metadata": {},
   "outputs": [],
   "source": [
    "class Pessoa():\n",
    "    def __init__(self):\n",
    "        print(\"Pessoa criada no sistema\")\n",
    "    \n",
    "    def salario(self, salario):\n",
    "        self.salario = salario\n",
    "        print(\"Você tem salario de: R${}\".format(salario))\n",
    "\n",
    "#Para fazer a henraça é preciso só passar a outra classe como parametro na filha\n",
    "class Pessoa_fisica(Pessoa):\n",
    "    \n",
    "    def salario(self, salario):\n",
    "        self.salario = salario\n",
    "        print(\"A empresa tem capital de: R${}\".format(salario))"
   ]
  },
  {
   "cell_type": "code",
   "execution_count": 63,
   "id": "d88126a9-23c9-4e9a-82ae-661ea3aca172",
   "metadata": {},
   "outputs": [
    {
     "name": "stdout",
     "output_type": "stream",
     "text": [
      "Pessoa criada no sistema\n"
     ]
    }
   ],
   "source": [
    "pessoa = Pessoa()"
   ]
  },
  {
   "cell_type": "code",
   "execution_count": 64,
   "id": "cf59bd7e-dab3-4db2-9ba7-2685ba1f1ada",
   "metadata": {},
   "outputs": [
    {
     "name": "stdout",
     "output_type": "stream",
     "text": [
      "Pessoa criada no sistema\n",
      "Você tem salario de: R$1500\n"
     ]
    }
   ],
   "source": [
    "p1 = Pessoa()\n",
    "p1.salario(1500)"
   ]
  },
  {
   "cell_type": "code",
   "execution_count": 67,
   "id": "abcdff00-3cb8-4b1b-a261-2cec7dcb2457",
   "metadata": {},
   "outputs": [
    {
     "name": "stdout",
     "output_type": "stream",
     "text": [
      "Pessoa criada no sistema\n",
      "A empresa tem capital de: R$10000\n"
     ]
    }
   ],
   "source": [
    "pj = Pessoa_fisica()\n",
    "pj.salario(10000)"
   ]
  },
  {
   "cell_type": "code",
   "execution_count": 14,
   "id": "cb55c530-c361-4354-b9f1-3de12c7ec18c",
   "metadata": {},
   "outputs": [],
   "source": [
    "class Equipamento():\n",
    "    def __init__(self, potencia, classe, valor):\n",
    "        self.potencia = potencia\n",
    "        self.classe = classe\n",
    "        self.valor = valor\n",
    "    \n",
    "    def calcular_valor(self):\n",
    "        if self.classe == \"A\" or self.classe == \"B\":\n",
    "            self.valor = self.valor+(self.valor*0.05)\n",
    "            return self.valor\n",
    "        else: \n",
    "            return self.valor"
   ]
  },
  {
   "cell_type": "code",
   "execution_count": 17,
   "id": "54b401ed-fb87-4c83-813c-eda2a4c8d32d",
   "metadata": {},
   "outputs": [
    {
     "name": "stdout",
     "output_type": "stream",
     "text": [
      "1\n",
      "B\n",
      "5000\n",
      "Valor do produto é: R$5250.0\n"
     ]
    }
   ],
   "source": [
    "equi = Equipamento(1,\"B\",5000)\n",
    "print(equi.potencia)\n",
    "print(equi.classe)\n",
    "print(equi.valor)\n",
    "\n",
    "\n",
    "print(\"Valor do produto é: R${}\".format(equi.calcular_valor()))"
   ]
  },
  {
   "cell_type": "code",
   "execution_count": null,
   "id": "2bc960da-2456-4c29-ad75-bc630a3af087",
   "metadata": {},
   "outputs": [],
   "source": []
  }
 ],
 "metadata": {
  "kernelspec": {
   "display_name": "Python 3 (ipykernel)",
   "language": "python",
   "name": "python3"
  },
  "language_info": {
   "codemirror_mode": {
    "name": "ipython",
    "version": 3
   },
   "file_extension": ".py",
   "mimetype": "text/x-python",
   "name": "python",
   "nbconvert_exporter": "python",
   "pygments_lexer": "ipython3",
   "version": "3.9.13"
  }
 },
 "nbformat": 4,
 "nbformat_minor": 5
}

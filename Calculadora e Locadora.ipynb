{
 "cells": [
  {
   "cell_type": "markdown",
   "id": "462a9145-4ff4-4def-a990-58e2acd83014",
   "metadata": {},
   "source": [
    "## Exercicio da Calculadora"
   ]
  },
  {
   "cell_type": "code",
   "execution_count": null,
   "id": "bd126ee2-2e77-443e-b444-9deab1a1cb1d",
   "metadata": {},
   "outputs": [],
   "source": [
    "import os\n",
    "\n",
    "while True:\n",
    "    os.system(\"clear\")\n",
    "    print(\"Escolha uma das opções a seguir:\")\n",
    "    print(\"0-Soma\")\n",
    "    print(\"1-Subtração\")\n",
    "    print(\"2-Multiplicação\")\n",
    "    print(\"3-Divisao\")\n",
    "    print(\"4-Exponenciação\")\n",
    "    escolha = int(input())\n",
    "    \n",
    "    while (escolha not in [0,1,2,3,4]):\n",
    "        print('Informe uma opção válida:')\n",
    "        escolha = int(input())\n",
    "\n",
    "    num1 = int(input(\"Digite um numero:\"))\n",
    "    num2 = int(input(\"Digite outro numero:\"))\n",
    "    operacao = 0\n",
    "\n",
    "    if escolha == 0:\n",
    "        operacao = num1+num2\n",
    "        print('O resultado da operação de soma é:',operacao)\n",
    "\n",
    "    elif escolha == 1:\n",
    "        operacao = num1-num2\n",
    "        print('O resultado da operação de soma é:',operacao)\n",
    "\n",
    "    elif escolha == 2:\n",
    "        operacao = num1*num2\n",
    "        print('O resultado da operação de Multiplicação é:',operacao)\n",
    "\n",
    "    elif escolha == 3:\n",
    "        operacao = num1/num2\n",
    "        print('O resultado da operação de Divisão é:',operacao)\n",
    "\n",
    "    elif escolha == 4:\n",
    "        operacao = num1**num2\n",
    "        print('O resultado da operação de Exponenciação é:',operacao)\n",
    "\n",
    "    print(\"Deseja fazer outra operação? S para sim e N para não\")\n",
    "    comando = input()\n",
    "    if comando == \"n\":\n",
    "        break\n"
   ]
  },
  {
   "cell_type": "markdown",
   "id": "c1270ce3-09fe-4128-b1d8-6003dc257b2c",
   "metadata": {},
   "source": [
    "## Resolução do exercicio locadora de carros"
   ]
  },
  {
   "cell_type": "code",
   "execution_count": 8,
   "id": "cae9ef1d-3bc7-4ec4-a4bf-b63f60145ef8",
   "metadata": {},
   "outputs": [
    {
     "name": "stdout",
     "output_type": "stream",
     "text": [
      "Programa locadora de carros ! - Selecione uma opção abaixo\n",
      " 0 - Mostrar portifolio || 1- Alugar um carro || 2- Devolver um carro\n"
     ]
    },
    {
     "name": "stdin",
     "output_type": "stream",
     "text": [
      " 0\n"
     ]
    },
    {
     "name": "stdout",
     "output_type": "stream",
     "text": [
      "Código:0 Chevrolet Tracker - R$ 120 /dia\n",
      "Código:1 Chevrolet Onix - R$ 90 /dia\n",
      "Código:2 Chevrolet Spin - R$ 150 /dia\n",
      "Código:3 Hyundai HB20 - R$ 85 /dia\n",
      "Código:4 Hyundai Ix35 - R$ 120 /dia\n",
      "Código:5 Fiat Uno - R$ 60 /dia\n",
      "\n",
      "Deseja continuar ou sair ? 0 - continuar / 1- Sair\n"
     ]
    },
    {
     "name": "stdin",
     "output_type": "stream",
     "text": [
      " 1\n"
     ]
    }
   ],
   "source": [
    "import os\n",
    "print(\"Programa locadora de carros ! - Selecione uma opção abaixo\")\n",
    "lista_carros = [\n",
    "    (\"Chevrolet Tracker\", 120),\n",
    "    (\"Chevrolet Onix\",90),\n",
    "    (\"Chevrolet Spin\", 150),\n",
    "    (\"Hyundai HB20\", 85),\n",
    "    (\"Hyundai Ix35\", 120),\n",
    "    (\"Fiat Uno\",60)\n",
    "]\n",
    "\n",
    "lista_alugados = []\n",
    "def mostrarListaCarros(lista_carros):\n",
    "    for i, carro in enumerate(lista_carros): #função enumerate irá atribuir um \"codigo\" automaticamente usando a posição do for 0,1,2..\n",
    "        print(\"Código:{} {} - R$ {} /dia\".format(i,carro[0],carro[1])) #aqui printa na tela diferentes posições na lista de carros\n",
    "\n",
    "while True:\n",
    "    os.system(\"clear\")\n",
    "    print(\" 0 - Mostrar portifolio || 1- Alugar um carro || 2- Devolver um carro\")\n",
    "    opc = int(input())\n",
    "    \n",
    "    os.system(\"clear\")\n",
    "    \n",
    "    while opc not in [0,1,2]:\n",
    "        print(\"Digite uma opção válida\")\n",
    "        opc = int(input())\n",
    "    \n",
    "    if opc == 0:\n",
    "        mostrarListaCarros(lista_carros)\n",
    "        \n",
    "    elif opc == 1:\n",
    "        mostrarListaCarros(lista_carros)\n",
    "        print(\"Digite o código do carro que deseja alugar:\")\n",
    "        opc_aluguel = int(input())\n",
    "        print(\"Por quantos dias deseja alugar:\")\n",
    "        dias_aluguel = int(input())\n",
    "        os.system(\"clear\")\n",
    "        \n",
    "        print(\"Carro selecionado: {} - por {} dias\".format(lista_carros[opc_aluguel][0],dias_aluguel))\n",
    "        print(\"O preço total do aluguel será: R$ {}, deseja continuar? S / N\".format(lista_carros[opc_aluguel][1]*dias_aluguel))\n",
    "        confirmacao = input()\n",
    "        \n",
    "        if confirmacao == 's':\n",
    "            print(\"Carro alugado!!\")\n",
    "            #a linha abaixo passa um elemento da lista de carros para lista de carros alugados usando append e pop\n",
    "            lista_alugados.append(lista_carros.pop(opc_aluguel))\n",
    "                                    \n",
    "        #pass #pass é uma palavra do python para não fazer nada \"pass\" de passar\n",
    "    elif opc == 2:\n",
    "        if len(lista_alugados) == 0: #if verifica se existe carros para devolução\n",
    "            print(\"Não existe carros para devolver\")\n",
    "        else:\n",
    "            print(\"Qual dos carros abaixo deseja devolver:\")\n",
    "            mostrarListaCarros(lista_alugados)\n",
    "            print(\"Digite o código do carro que deseja devolver:\")\n",
    "            codigo = int(input())\n",
    "            print(\"Deseja realmente devolver o carro: {}, S - N\".format(lista_alugados[codigo][0]))\n",
    "            confirm = input()\n",
    "            if confirm == 's':\n",
    "                lista_carros.append(lista_alugados.pop(codigo))\n",
    "                print(\"Carro devolvido com sucesso !\")\n",
    "    \n",
    "    print(\"\")\n",
    "    print(\"Deseja continuar ou sair ? 0 - continuar / 1- Sair\")\n",
    "    if int(input()) == 1: #aqui é feita uma verificação direta no if do que o usuário digitou\n",
    "        break;\n",
    "          \n",
    "    \n"
   ]
  },
  {
   "cell_type": "code",
   "execution_count": null,
   "id": "27983ba3-3aa7-401d-b046-00c6ada0c21f",
   "metadata": {},
   "outputs": [],
   "source": []
  },
  {
   "cell_type": "markdown",
   "id": "9563ec07-4123-4776-a4dd-7bb4afea521c",
   "metadata": {},
   "source": [
    "## Testes extras dos exercicios acima"
   ]
  },
  {
   "cell_type": "code",
   "execution_count": 24,
   "id": "eb80d755-2c7f-4b90-865a-e9e97f808599",
   "metadata": {},
   "outputs": [
    {
     "name": "stdout",
     "output_type": "stream",
     "text": [
      "Digite a quantidade de numeros que deseja entrar\n"
     ]
    },
    {
     "name": "stdin",
     "output_type": "stream",
     "text": [
      " 4\n",
      "Digite o 1 numero:  2\n",
      "Digite o 2 numero:  4\n",
      "Digite o 3 numero:  6\n",
      "Digite o 4 numero:  8\n"
     ]
    },
    {
     "data": {
      "text/plain": [
       "[2, 4, 5, 6]"
      ]
     },
     "execution_count": 24,
     "metadata": {},
     "output_type": "execute_result"
    }
   ],
   "source": [
    "print(\"Digite a quantidade de numeros que deseja entrar\")\n",
    "qtd_numeros = int(input())\n",
    "numeros = []\n",
    "for i in range(0, qtd_numeros):\n",
    "    num_digitado = int(input(\"Digite o {} numero: \".format(i+1)))\n",
    "    numeros.append(num_digitado)\n",
    "\n",
    "numeros.sort()\n",
    "numeros.pop(3)\n",
    "numeros.insert(2, 5)\n",
    "numeros"
   ]
  },
  {
   "cell_type": "code",
   "execution_count": 97,
   "id": "7a4b7996-74d2-422b-a850-03dfce11d2bc",
   "metadata": {},
   "outputs": [
    {
     "name": "stdout",
     "output_type": "stream",
     "text": [
      "Programa para origanizar alunos em listas diferentes\n",
      "19\n",
      "[('José Augusto', 19)]\n",
      "16\n",
      "16\n",
      "23\n",
      "[('José Augusto', 19), ('Gregorio Antunes', 23)]\n",
      "14\n",
      "25\n",
      "[('José Augusto', 19), ('Gregorio Antunes', 23), ('Bruno Lurran', 25)]\n",
      "A nova lista dos alunos maiores de idade é: \n",
      "\n",
      "Nome: José Augusto -- idade: 19\n",
      "Nome: Gregorio Antunes -- idade: 23\n",
      "Nome: Bruno Lurran -- idade: 25\n"
     ]
    }
   ],
   "source": [
    "print(\"Programa para origanizar alunos em listas diferentes\")\n",
    "lista_alunos_geral = [\n",
    "    (\"José Augusto\", 19),\n",
    "    (\"Jonas brothers\", 14),\n",
    "    (\"Marcos novais\", 16),\n",
    "    (\"Mike lucan\", 16),\n",
    "    (\"Gregorio Antunes\", 23),\n",
    "    (\"José Poloni\", 15),\n",
    "    (\"Marcos Antony\", 14),\n",
    "    (\"Bruno Lurran\", 25),\n",
    "    (\"Nicolas Berti\", 21)\n",
    "]\n",
    "\n",
    "lista_alunos_maiores = []\n",
    "\n",
    "\n",
    "for i,aluno in enumerate(lista_alunos_geral):\n",
    "    #print(lista_alunos_geral)\n",
    "    idade = aluno[1]\n",
    "    print(idade)\n",
    "    if idade >= 18:\n",
    "        lista_alunos_maiores.append(lista_alunos_geral.pop(i))\n",
    "        print(lista_alunos_maiores)\n",
    "    \n",
    "    \n",
    "def mostrarMaioresEditados(lista):\n",
    "    for maiores in lista_alunos_maiores:\n",
    "        print(\"Nome: {} -- idade: {}\".format(maiores[0],maiores[1]))\n",
    "    \n",
    "print(\"A nova lista dos alunos maiores de idade é: \\n\")\n",
    "mostrarMaioresEditados(lista_alunos_maiores)\n",
    "\n",
    "        \n",
    "                      "
   ]
  },
  {
   "cell_type": "code",
   "execution_count": 116,
   "id": "42caf531-9c03-4bd1-bfc2-554b38703cb3",
   "metadata": {},
   "outputs": [
    {
     "name": "stdout",
     "output_type": "stream",
     "text": [
      "Programa para origanizar alunos em listas diferentes\n",
      "A nova lista dos alunos maiores de idade é: \n",
      "\n",
      "Nome: José Augusto -- idade: 19\n",
      "Nome: Gregorio Antunes -- idade: 23\n",
      "Nome: José Poloni -- idade: 26\n",
      "Nome: Bruno Lurran -- idade: 25\n",
      "Nome: Nicolas Berti -- idade: 21\n"
     ]
    }
   ],
   "source": [
    "print(\"Programa para origanizar alunos em listas diferentes\")\n",
    "lista_alunos_geral = [\n",
    "    (\"José Augusto\", 19),\n",
    "    (\"Jonas brothers\", 14),\n",
    "    (\"Marcos novais\", 16),\n",
    "    (\"Mike lucan\", 16),\n",
    "    (\"Gregorio Antunes\", 23),\n",
    "    (\"José Poloni\", 26),\n",
    "    (\"Marcos Antony\", 14),\n",
    "    (\"Bruno Lurran\", 25),\n",
    "    (\"Nicolas Berti\", 21),\n",
    "    (\"Andre Antunes\", 15)\n",
    "]\n",
    "lista_alunos_maiores = []\n",
    "#lista_alunos_maiores = [aluno for x in lista_alunos_geral[] if aluno[1] >= 18]\n",
    "\n",
    "def funcao_maior(lista_alunos_geral):\n",
    "    if lista_alunos_geral[1] < 18:\n",
    "        return False\n",
    "    else:\n",
    "        return True\n",
    "\n",
    "#usando a função filter junto com o metodo funcao maior para percorrer a lista e buscar os alunos com idades maiores que 18\n",
    "lista_alunos_maiores = filter(funcao_maior,lista_alunos_geral)  \n",
    "\n",
    "def mostrarMaioresEditados(lista):\n",
    "    for maiores in lista_alunos_maiores:\n",
    "        print(\"Nome: {} -- idade: {}\".format(maiores[0],maiores[1]))\n",
    "    \n",
    "print(\"A nova lista dos alunos maiores de idade é: \\n\")\n",
    "mostrarMaioresEditados(lista_alunos_maiores)"
   ]
  },
  {
   "cell_type": "code",
   "execution_count": null,
   "id": "c2dbee9a-add8-43cd-8a61-55fe114cac32",
   "metadata": {},
   "outputs": [],
   "source": []
  }
 ],
 "metadata": {
  "kernelspec": {
   "display_name": "Python 3 (ipykernel)",
   "language": "python",
   "name": "python3"
  },
  "language_info": {
   "codemirror_mode": {
    "name": "ipython",
    "version": 3
   },
   "file_extension": ".py",
   "mimetype": "text/x-python",
   "name": "python",
   "nbconvert_exporter": "python",
   "pygments_lexer": "ipython3",
   "version": "3.9.13"
  }
 },
 "nbformat": 4,
 "nbformat_minor": 5
}

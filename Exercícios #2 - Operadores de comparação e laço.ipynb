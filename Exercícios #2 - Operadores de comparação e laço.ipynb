{
 "cells": [
  {
   "cell_type": "markdown",
   "metadata": {},
   "source": [
    "<img src=\"https://asimov.academy/wp-content/uploads/2021/01/logo.png\" width=\"200\"/>\n",
    "_____________________________________________\n",
    "\n",
    "## Exercícios #2 - Operadores de comparação e laços\n"
   ]
  },
  {
   "cell_type": "markdown",
   "metadata": {},
   "source": [
    "### Exercício 1\n",
    "Faça um programa para a leitura de duas notas parciais de um aluno. O programa deve calcular a média alcançada por aluno e apresentar:\n",
    "- A mensagem \"Aprovado\", se a média alcançada for maior ou igual a 7;\n",
    "- A mensagem \"Reprovado\", se a média for menor do que 7;\n",
    "- A mensagem \"Aprovado com Distinção\", se a média for igual a 10."
   ]
  },
  {
   "cell_type": "code",
   "execution_count": 42,
   "metadata": {},
   "outputs": [
    {
     "name": "stdout",
     "output_type": "stream",
     "text": [
      "Digite as duas notas abaixo: \n"
     ]
    },
    {
     "name": "stdin",
     "output_type": "stream",
     "text": [
      "Digite a 1 nota:  5\n",
      "Digite a 2 nota:  5\n"
     ]
    },
    {
     "name": "stdout",
     "output_type": "stream",
     "text": [
      "Aluno reprovado com média: 5.00\n"
     ]
    }
   ],
   "source": [
    "print('Digite as duas notas abaixo: ')\n",
    "nota1 = float(input('Digite a 1 nota: '))\n",
    "nota2 = float(input('Digite a 2 nota: '))\n",
    "\n",
    "media = (nota1+nota2)/2\n",
    "if media >= 7 and media <= 9.9:\n",
    "    print('Aluno aprovado com média: {:.2f}'.format(media))\n",
    "elif media == 10:\n",
    "    print(\"Aluno aprovado com Distinção, média igual a: {:.2f}\".format(media))\n",
    "else:\n",
    "    print(\"Aluno reprovado com média: {:.2f}\".format(media))\n",
    "        \n",
    "\n",
    "\n"
   ]
  },
  {
   "cell_type": "markdown",
   "metadata": {},
   "source": [
    "### Exercício 2\n",
    "Escreva um script que leia três números e mostre o maior e o menor deles."
   ]
  },
  {
   "cell_type": "code",
   "execution_count": 5,
   "metadata": {},
   "outputs": [
    {
     "name": "stdin",
     "output_type": "stream",
     "text": [
      "Digite o 1 numero:  120\n",
      "Digite o 2 numero:  121\n",
      "Digite o 3 numero:  110\n"
     ]
    },
    {
     "name": "stdout",
     "output_type": "stream",
     "text": [
      "O maior numero digitado foi: 121\n",
      "O maior numero digitado foi: 110\n"
     ]
    }
   ],
   "source": [
    "lista = []\n",
    "ind = 0\n",
    "while(ind < 3):\n",
    "    num = int(input(\"Digite o {} numero: \".format(ind+1)))\n",
    "    lista.append(num)\n",
    "    ind += 1\n",
    "\n",
    "lista.sort()\n",
    "print(\"O maior numero digitado foi:\",lista[-1])\n",
    "print(\"O maior numero digitado foi:\",lista[0])  \n"
   ]
  },
  {
   "cell_type": "markdown",
   "metadata": {},
   "source": [
    "### Exercício 3 \n",
    "Nome na vertical em escada. \n",
    "\n",
    "F<br>\n",
    "FU<br>\n",
    "FUL<br>\n",
    "FULA<br>\n",
    "FULAN<br>\n",
    "FULANO<br>"
   ]
  },
  {
   "cell_type": "code",
   "execution_count": 9,
   "metadata": {},
   "outputs": [
    {
     "name": "stdin",
     "output_type": "stream",
     "text": [
      "Digite o seu primeiro nome: Gustavo\n"
     ]
    },
    {
     "name": "stdout",
     "output_type": "stream",
     "text": [
      "\n",
      "G\n",
      "Gu\n",
      "Gus\n",
      "Gust\n",
      "Gusta\n",
      "Gustav\n",
      "Gustavo\n"
     ]
    }
   ],
   "source": [
    "nome = input(\"Digite o seu primeiro nome:\")\n",
    "for i in range(len(nome)+1):\n",
    "    print(nome[:i])"
   ]
  },
  {
   "cell_type": "markdown",
   "metadata": {},
   "source": [
    "### Exercício 4\n",
    "A série de Fibonacci é formada pela seqüência 1,1,2,3,5,8,13,21,34,55,... (o próximo termo, a partir do terceiro, é sempre gerado a partir do somatório dos últimos dois). Faça um programa capaz de gerar a série até o n−ésimo termo (onde o valor n deve ser inserido pelo usuário)."
   ]
  },
  {
   "cell_type": "code",
   "execution_count": 11,
   "metadata": {},
   "outputs": [
    {
     "name": "stdin",
     "output_type": "stream",
     "text": [
      "Entre com o tamanho da sequencia de fibo: 10\n"
     ]
    },
    {
     "name": "stdout",
     "output_type": "stream",
     "text": [
      "1\n",
      "1\n",
      "2\n",
      "3\n",
      "5\n",
      "8\n",
      "13\n",
      "21\n",
      "34\n",
      "55\n",
      "89\n",
      "144\n"
     ]
    }
   ],
   "source": [
    "n = int(input(\"Entre com o tamanho da sequencia de fibo:\"))\n",
    "\n",
    "v0 = 0\n",
    "v1 = 1\n",
    "v = 1\n",
    "print(1)\n",
    "for i in range(n+1):\n",
    "    print(v)\n",
    "    v0 = v1\n",
    "    v1 = v\n",
    "    v = v1+v0"
   ]
  },
  {
   "cell_type": "markdown",
   "metadata": {},
   "source": [
    "### Exercício 5\n",
    "Faça um programa que leia e valide as seguintes informações:\n",
    "- Nome: maior que 3 caracteres;\n",
    "- Idade: entre 0 e 150;\n",
    "- Salário: maior que zero;\n",
    "- Sexo: 'f' ou 'm';\n",
    "- Estado Civil: 's', 'c', 'v', 'd';"
   ]
  },
  {
   "cell_type": "code",
   "execution_count": 24,
   "metadata": {},
   "outputs": [
    {
     "name": "stdin",
     "output_type": "stream",
     "text": [
      "Digite seu nome Gus\n"
     ]
    },
    {
     "name": "stdout",
     "output_type": "stream",
     "text": [
      "O nome precisa ter 3 caracteres ou mais\n",
      "Informe seu nome:\n"
     ]
    },
    {
     "name": "stdin",
     "output_type": "stream",
     "text": [
      " Gustavo\n",
      "Digite a sua idade 29\n",
      "Digite o seu salario 2000\n",
      "Digite seu sexo F ou M:  m\n",
      "Digite seu estado civil: S, C, V ou D a\n"
     ]
    },
    {
     "name": "stdout",
     "output_type": "stream",
     "text": [
      "Digite um estado civil valido\n"
     ]
    },
    {
     "name": "stdin",
     "output_type": "stream",
     "text": [
      " b\n"
     ]
    },
    {
     "name": "stdout",
     "output_type": "stream",
     "text": [
      "Digite um estado civil valido\n"
     ]
    },
    {
     "name": "stdin",
     "output_type": "stream",
     "text": [
      " c\n"
     ]
    },
    {
     "name": "stdout",
     "output_type": "stream",
     "text": [
      "Seu nome é: Gustavo\n",
      "Sua idade é: 29\n",
      "Seu salario é: 2000\n",
      "O sexo informado é: m\n",
      "O estado civil informado é:c\n"
     ]
    }
   ],
   "source": [
    "nome = input(\"Digite seu nome\")\n",
    "while len(nome) <=3:\n",
    "    print(\"O nome precisa ter 3 caracteres ou mais\")\n",
    "    print(\"Informe seu nome:\")\n",
    "    nome = input()   \n",
    "\n",
    "idade = int(input(\"Digite a sua idade\"))\n",
    "while(idade <0 or idade >150):\n",
    "    print(\"A idade precisa estar entre 0 e 150\")\n",
    "    print(\"Informe sua idade:\")\n",
    "    idade = int(input())\n",
    "\n",
    "salario = int(input(\"Digite o seu salario\"))\n",
    "while(salario <= 0):\n",
    "    print(\"Seu salario digitado precisa ser maior que 0\")\n",
    "    print(\"Informe o salario:\")\n",
    "    salario = int(input())\n",
    "\n",
    "sexo = input(\"Digite seu sexo F ou M: \")\n",
    "while(sexo not in [\"m\",\"f\"]):\n",
    "    print(\"Informe um sexo valido - m ou f\")\n",
    "    sexo = input()\n",
    "\n",
    "estado_civil = input(\"Digite seu estado civil: S, C, V ou D\")\n",
    "while(estado_civil not in [\"s\",\"c\",\"v\",\"d\"]):\n",
    "    print(\"Digite um estado civil valido\")\n",
    "    estado_civil = input()\n",
    "    \n",
    "print(\"Seu nome é: {}\".format(nome))\n",
    "print(\"Sua idade é: {}\".format(idade))\n",
    "print(\"Seu salario é: {}\".format(salario))\n",
    "print(\"O sexo informado é: {}\".format(sexo))\n",
    "print(\"O estado civil informado é:{}\".format(estado_civil))"
   ]
  },
  {
   "cell_type": "markdown",
   "metadata": {},
   "source": [
    "### Exercício 6\n",
    "Faça um programa que peça um número inteiro e determine se ele é ou não um número primo. Um número primo é aquele que é divisível somente por ele mesmo e por 1. \n",
    "Dica: Utilize o operador aritmético `%`, que retorna o resto da divisão de dois números."
   ]
  },
  {
   "cell_type": "code",
   "execution_count": 30,
   "metadata": {},
   "outputs": [
    {
     "name": "stdin",
     "output_type": "stream",
     "text": [
      "Digite um numero 75\n"
     ]
    },
    {
     "name": "stdout",
     "output_type": "stream",
     "text": [
      "Não é primo\n"
     ]
    }
   ],
   "source": [
    "numero = int(input(\"Digite um numero\"))\n",
    "\n",
    "check = 0\n",
    "for i in range(2, numero):\n",
    "    if numero % i == 0:\n",
    "        check = 1\n",
    "        break\n",
    "if check == 0:\n",
    "    print(\"O numero é primo\")\n",
    "else:\n",
    "    print(\"Não é primo\")"
   ]
  },
  {
   "cell_type": "code",
   "execution_count": null,
   "metadata": {},
   "outputs": [],
   "source": []
  }
 ],
 "metadata": {
  "kernelspec": {
   "display_name": "Python 3 (ipykernel)",
   "language": "python",
   "name": "python3"
  },
  "language_info": {
   "codemirror_mode": {
    "name": "ipython",
    "version": 3
   },
   "file_extension": ".py",
   "mimetype": "text/x-python",
   "name": "python",
   "nbconvert_exporter": "python",
   "pygments_lexer": "ipython3",
   "version": "3.9.13"
  }
 },
 "nbformat": 4,
 "nbformat_minor": 4
}

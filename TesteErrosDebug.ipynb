{
 "cells": [
  {
   "cell_type": "code",
   "execution_count": null,
   "id": "f68e64be-4045-4aa8-96a8-de6523245e48",
   "metadata": {},
   "outputs": [],
   "source": [
    "!pip freeze # comando serve para verificar quais bibliotecas estão instaladas "
   ]
  },
  {
   "cell_type": "code",
   "execution_count": 3,
   "id": "1d89adc7-e578-4a9d-9102-6d40db1256a6",
   "metadata": {},
   "outputs": [],
   "source": [
    "import pdb # importando a biblioteca de debug do python"
   ]
  },
  {
   "cell_type": "code",
   "execution_count": null,
   "id": "eb5bc6e4-5254-4ea5-b846-1993e45202d9",
   "metadata": {},
   "outputs": [],
   "source": [
    "x = [1,2,3]\n",
    "y = 2\n",
    "z = 3\n",
    "\n",
    "print(z+y)\n",
    "\n",
    "pdb.set_trace() # importando uma função para congelar o codigo nesse ponto e depois irá abrir o modo debug\n",
    "#C avança Q é para sair e encerrar a execução.\n",
    "print(x+y)"
   ]
  },
  {
   "cell_type": "markdown",
   "id": "6fcd34ab-1be2-4c5c-9677-025967da8930",
   "metadata": {},
   "source": [
    "# Testando Try, except e finally no Py"
   ]
  },
  {
   "cell_type": "code",
   "execution_count": 16,
   "id": "893c84ef-2fd5-4f44-82f4-e74ee2b9628d",
   "metadata": {},
   "outputs": [
    {
     "name": "stdout",
     "output_type": "stream",
     "text": [
      "Erro gerado na soma: can only concatenate list (not \"int\") to list\n",
      "Mensagem que será executada com ou sem erros\n"
     ]
    }
   ],
   "source": [
    "#tratamento de erros usando try em linhas que possivelmente podem gerar erros\n",
    "x = [5,8,3,4]\n",
    "y = 1\n",
    "\n",
    "try:\n",
    "    print(x+y)\n",
    "    x = 1\n",
    "except Exception as e:\n",
    "    print(\"Erro gerado na soma:\",e)\n",
    "finally:\n",
    "    print(\"Mensagem que será executada com ou sem erros\")"
   ]
  },
  {
   "cell_type": "markdown",
   "id": "b15c23d3-a4b5-4c5e-99f3-9c7ac621851a",
   "metadata": {},
   "source": [
    "# Exemplo de Modulo Logging para encontrar erros e rastrear funções do programa"
   ]
  },
  {
   "cell_type": "code",
   "execution_count": 1,
   "id": "7cb4b2be-b9ef-4155-b866-9ccb45dca777",
   "metadata": {},
   "outputs": [],
   "source": [
    "import logging"
   ]
  },
  {
   "cell_type": "code",
   "execution_count": 2,
   "id": "9d405d3d-4eea-4c66-9527-08acdac7f2c3",
   "metadata": {},
   "outputs": [],
   "source": [
    "#definindo o formato da mensagem de log dentro do log com dia e horário.\n",
    "LOG_FORMAT = \"%(levelname)s %(asctime)s - %(message)s\""
   ]
  },
  {
   "cell_type": "code",
   "execution_count": 3,
   "id": "37928ad9-aec1-42bd-baa9-8bd27b4f9d51",
   "metadata": {},
   "outputs": [],
   "source": [
    "#ele irá escrever em um arquivo txt tudo o que acontecer na execução e erros\n",
    "#definição do arquivo que irá salvar os logs\n",
    "#filemode serve para salvar limpando os logs anteriores\n",
    "logging.basicConfig(filename=\"app.log\", level=logging.DEBUG, filemode= \"w\", format = LOG_FORMAT)  "
   ]
  },
  {
   "cell_type": "code",
   "execution_count": 4,
   "id": "de6e642e-bbf6-4324-ab58-d54002c1b3cb",
   "metadata": {},
   "outputs": [],
   "source": [
    "log = logging.getLogger() #criando uma variavel para poder manipular e escrever no arquivo de log, log.level tem que ser 10"
   ]
  },
  {
   "cell_type": "code",
   "execution_count": 5,
   "id": "cf802fb5-c72c-4ee9-81e0-ec933bc59c5e",
   "metadata": {},
   "outputs": [
    {
     "name": "stdout",
     "output_type": "stream",
     "text": [
      "Erro encontrado, verifique o log\n"
     ]
    }
   ],
   "source": [
    "from datetime import date #import para trabalhar com a data atual\n",
    "#Exemplo de como colocar erros dentro do log junto com try\n",
    "log.info(\"Olá\")\n",
    "x = [1,2,3]\n",
    "y = 6 \n",
    "\n",
    "try:\n",
    "    print(\"sum:\",x+y)\n",
    "except Exception as e:\n",
    "    print(\"Erro encontrado, verifique o log\")\n",
    "    log.info(date.today())\n",
    "    #log.critical(\"ERRO GRAVE\")\n",
    "    log.info(e)"
   ]
  },
  {
   "cell_type": "code",
   "execution_count": 6,
   "id": "312c71a9-6414-4996-8ebb-c8638a33bfb0",
   "metadata": {},
   "outputs": [
    {
     "data": {
      "text/plain": [
       "10"
      ]
     },
     "execution_count": 6,
     "metadata": {},
     "output_type": "execute_result"
    }
   ],
   "source": [
    "log.level #level precisa ser 10 do tipo DEBUG"
   ]
  },
  {
   "cell_type": "code",
   "execution_count": null,
   "id": "d3b66e03-e5ed-4fb1-9946-5a1901dde9f4",
   "metadata": {},
   "outputs": [],
   "source": []
  }
 ],
 "metadata": {
  "kernelspec": {
   "display_name": "Python 3 (ipykernel)",
   "language": "python",
   "name": "python3"
  },
  "language_info": {
   "codemirror_mode": {
    "name": "ipython",
    "version": 3
   },
   "file_extension": ".py",
   "mimetype": "text/x-python",
   "name": "python",
   "nbconvert_exporter": "python",
   "pygments_lexer": "ipython3",
   "version": "3.9.13"
  }
 },
 "nbformat": 4,
 "nbformat_minor": 5
}

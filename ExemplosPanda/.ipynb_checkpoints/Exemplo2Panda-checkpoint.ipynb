{
 "cells": [
  {
   "cell_type": "code",
   "execution_count": 3,
   "id": "b49a047e-bcea-463f-a6ba-c8945caf7a55",
   "metadata": {},
   "outputs": [],
   "source": [
    "import pandas as pd\n",
    "df_data = pd.read_csv(\"supermarket_sales.csv\")\n",
    "import numpy as np "
   ]
  },
  {
   "cell_type": "code",
   "execution_count": 54,
   "id": "7f100022-04ec-4f22-985f-c61d3171a2a3",
   "metadata": {},
   "outputs": [],
   "source": [
    "#colunas são chamadas de series no panda \n",
    "labels = ['a','b','c']\n",
    "\n",
    "minha_lista = [10,20,30]\n",
    "\n",
    "arrey_lista = np.array([10,20,30]) #criando um array list utilizando a biblioteca numpy\n",
    "\n",
    "d = {'a':10, 'b':20, 'c':30} #criando um dicionário de atributos com 2 \"objetos\" junto em cada tupla"
   ]
  },
  {
   "cell_type": "code",
   "execution_count": 55,
   "id": "33ff5866-725e-42fe-bee0-d58a84a81ffb",
   "metadata": {},
   "outputs": [
    {
     "data": {
      "text/plain": [
       "0    a\n",
       "1    b\n",
       "2    c\n",
       "dtype: object"
      ]
     },
     "execution_count": 55,
     "metadata": {},
     "output_type": "execute_result"
    }
   ],
   "source": [
    "# criando uma lista com o panda, e atribuido automaticamente indices para essa lista 0,1,2\n",
    "pd.Series(labels)"
   ]
  },
  {
   "cell_type": "code",
   "execution_count": 6,
   "id": "3c240ff7-0e40-4a63-9b90-8ab9e269f5f8",
   "metadata": {},
   "outputs": [
    {
     "data": {
      "text/plain": [
       "10    a\n",
       "20    b\n",
       "30    c\n",
       "dtype: object"
      ]
     },
     "execution_count": 6,
     "metadata": {},
     "output_type": "execute_result"
    }
   ],
   "source": [
    "#criando a mesma lista acima porém modificando o indice criado automaticamente\n",
    "pd.Series(data=labels, index=minha_lista)"
   ]
  },
  {
   "cell_type": "code",
   "execution_count": 7,
   "id": "88e88073-8833-41db-8d32-ada849c11db4",
   "metadata": {},
   "outputs": [
    {
     "data": {
      "text/plain": [
       "a    10\n",
       "b    20\n",
       "c    30\n",
       "dtype: int64"
      ]
     },
     "execution_count": 7,
     "metadata": {},
     "output_type": "execute_result"
    }
   ],
   "source": [
    "#criando uma lista agora com o dicionario D que já possui 2 objetos juntos\n",
    "# o panda já identificou as letras como indice e os numeros como os elementos da lista\n",
    "pd.Series(d)"
   ]
  },
  {
   "cell_type": "code",
   "execution_count": 18,
   "id": "65d42ee2-6fad-4944-8681-1b650d8fbc68",
   "metadata": {},
   "outputs": [],
   "source": [
    "#crinado uma nova serie tudo junto em uma linha\n",
    "serie1 = pd.Series(data=[1,2,3,4], index=['EUA', 'Alemanha', 'Russia', 'Japao'])"
   ]
  },
  {
   "cell_type": "code",
   "execution_count": 19,
   "id": "3b6555c5-15ed-4a88-b4b3-5e62f03b1c69",
   "metadata": {},
   "outputs": [
    {
     "data": {
      "text/plain": [
       "EUA         1\n",
       "Alemanha    2\n",
       "Russia      3\n",
       "Japao       4\n",
       "dtype: int64"
      ]
     },
     "execution_count": 19,
     "metadata": {},
     "output_type": "execute_result"
    }
   ],
   "source": [
    "serie1"
   ]
  },
  {
   "cell_type": "code",
   "execution_count": 20,
   "id": "1fbaacdf-4c59-4c01-82a0-bfed34298cbd",
   "metadata": {},
   "outputs": [],
   "source": [
    "#crinado uma nova serie tudo junto em uma linha\n",
    "serie2 = pd.Series(data=[1,2,5,4], index= ['EUA', 'Alemanha', 'Italia', 'Japao'])"
   ]
  },
  {
   "cell_type": "code",
   "execution_count": 21,
   "id": "8d171753-7313-4181-ae3a-84595adaf4e0",
   "metadata": {},
   "outputs": [
    {
     "data": {
      "text/plain": [
       "EUA         1\n",
       "Alemanha    2\n",
       "Italia      5\n",
       "Japao       4\n",
       "dtype: int64"
      ]
     },
     "execution_count": 21,
     "metadata": {},
     "output_type": "execute_result"
    }
   ],
   "source": [
    "serie2"
   ]
  },
  {
   "cell_type": "code",
   "execution_count": 24,
   "id": "894b386c-e10a-4385-a08b-8ae60934286e",
   "metadata": {},
   "outputs": [
    {
     "data": {
      "text/plain": [
       "Alemanha    2\n",
       "Russia      3\n",
       "EUA         1\n",
       "dtype: int64"
      ]
     },
     "execution_count": 24,
     "metadata": {},
     "output_type": "execute_result"
    }
   ],
   "source": [
    "serie1['Alemanha'] #pegando a informação do index da Serie para ser exibido\n",
    "serie1[['Alemanha', 'Russia', 'EUA']] #pegando várias informações de uma vez da Serie para exibir"
   ]
  },
  {
   "cell_type": "markdown",
   "id": "deeceb51-bb7b-424c-a99d-383e6f964a1c",
   "metadata": {},
   "source": [
    "# Criando e trabalhando com DataFrames"
   ]
  },
  {
   "cell_type": "code",
   "execution_count": 25,
   "id": "10c6ac73-fb70-4faa-b63f-2c2dfdf32c65",
   "metadata": {},
   "outputs": [],
   "source": [
    "#realizando a importancia da numpy biblioteca com funções para trabalhar com matematica, criação de vetores etc\n",
    "# importando junto uma função randn de random para gerar numeros aleatórios\n",
    "from numpy.random import randn  "
   ]
  },
  {
   "cell_type": "code",
   "execution_count": 28,
   "id": "b96a6526-13ac-4138-93d8-5bad66e800a2",
   "metadata": {},
   "outputs": [
    {
     "data": {
      "text/html": [
       "<div>\n",
       "<style scoped>\n",
       "    .dataframe tbody tr th:only-of-type {\n",
       "        vertical-align: middle;\n",
       "    }\n",
       "\n",
       "    .dataframe tbody tr th {\n",
       "        vertical-align: top;\n",
       "    }\n",
       "\n",
       "    .dataframe thead th {\n",
       "        text-align: right;\n",
       "    }\n",
       "</style>\n",
       "<table border=\"1\" class=\"dataframe\">\n",
       "  <thead>\n",
       "    <tr style=\"text-align: right;\">\n",
       "      <th></th>\n",
       "      <th>W</th>\n",
       "      <th>X</th>\n",
       "      <th>Y</th>\n",
       "      <th>Z</th>\n",
       "    </tr>\n",
       "  </thead>\n",
       "  <tbody>\n",
       "    <tr>\n",
       "      <th>A</th>\n",
       "      <td>1.397840</td>\n",
       "      <td>0.836632</td>\n",
       "      <td>0.680858</td>\n",
       "      <td>1.131313</td>\n",
       "    </tr>\n",
       "    <tr>\n",
       "      <th>B</th>\n",
       "      <td>0.526963</td>\n",
       "      <td>2.281291</td>\n",
       "      <td>0.165073</td>\n",
       "      <td>0.752418</td>\n",
       "    </tr>\n",
       "    <tr>\n",
       "      <th>C</th>\n",
       "      <td>-0.269319</td>\n",
       "      <td>-1.789297</td>\n",
       "      <td>2.261069</td>\n",
       "      <td>1.758681</td>\n",
       "    </tr>\n",
       "    <tr>\n",
       "      <th>D</th>\n",
       "      <td>-1.351637</td>\n",
       "      <td>1.725159</td>\n",
       "      <td>1.191414</td>\n",
       "      <td>0.119577</td>\n",
       "    </tr>\n",
       "    <tr>\n",
       "      <th>E</th>\n",
       "      <td>-0.621136</td>\n",
       "      <td>0.393121</td>\n",
       "      <td>1.445768</td>\n",
       "      <td>0.107923</td>\n",
       "    </tr>\n",
       "  </tbody>\n",
       "</table>\n",
       "</div>"
      ],
      "text/plain": [
       "          W         X         Y         Z\n",
       "A  1.397840  0.836632  0.680858  1.131313\n",
       "B  0.526963  2.281291  0.165073  0.752418\n",
       "C -0.269319 -1.789297  2.261069  1.758681\n",
       "D -1.351637  1.725159  1.191414  0.119577\n",
       "E -0.621136  0.393121  1.445768  0.107923"
      ]
     },
     "execution_count": 28,
     "metadata": {},
     "output_type": "execute_result"
    }
   ],
   "source": [
    "#criando um data frame abaixo nada mais que um tabela com colunas e linhas, e dados aleatórios usando a randn\n",
    "# Index referen-se as linhas da tabela(data frame) e columns o nome das colunas da tabela \n",
    "df = pd.DataFrame(randn(5,4), index=['A','B','C','D','E'], columns=\"W X Y Z\".split())\n",
    "df"
   ]
  },
  {
   "cell_type": "code",
   "execution_count": 32,
   "id": "68203f7e-0236-455f-ad48-0c5ae7b1da26",
   "metadata": {},
   "outputs": [
    {
     "data": {
      "text/html": [
       "<div>\n",
       "<style scoped>\n",
       "    .dataframe tbody tr th:only-of-type {\n",
       "        vertical-align: middle;\n",
       "    }\n",
       "\n",
       "    .dataframe tbody tr th {\n",
       "        vertical-align: top;\n",
       "    }\n",
       "\n",
       "    .dataframe thead th {\n",
       "        text-align: right;\n",
       "    }\n",
       "</style>\n",
       "<table border=\"1\" class=\"dataframe\">\n",
       "  <thead>\n",
       "    <tr style=\"text-align: right;\">\n",
       "      <th></th>\n",
       "      <th>W</th>\n",
       "      <th>X</th>\n",
       "    </tr>\n",
       "  </thead>\n",
       "  <tbody>\n",
       "    <tr>\n",
       "      <th>A</th>\n",
       "      <td>1.397840</td>\n",
       "      <td>0.836632</td>\n",
       "    </tr>\n",
       "    <tr>\n",
       "      <th>B</th>\n",
       "      <td>0.526963</td>\n",
       "      <td>2.281291</td>\n",
       "    </tr>\n",
       "    <tr>\n",
       "      <th>C</th>\n",
       "      <td>-0.269319</td>\n",
       "      <td>-1.789297</td>\n",
       "    </tr>\n",
       "    <tr>\n",
       "      <th>D</th>\n",
       "      <td>-1.351637</td>\n",
       "      <td>1.725159</td>\n",
       "    </tr>\n",
       "    <tr>\n",
       "      <th>E</th>\n",
       "      <td>-0.621136</td>\n",
       "      <td>0.393121</td>\n",
       "    </tr>\n",
       "  </tbody>\n",
       "</table>\n",
       "</div>"
      ],
      "text/plain": [
       "          W         X\n",
       "A  1.397840  0.836632\n",
       "B  0.526963  2.281291\n",
       "C -0.269319 -1.789297\n",
       "D -1.351637  1.725159\n",
       "E -0.621136  0.393121"
      ]
     },
     "execution_count": 32,
     "metadata": {},
     "output_type": "execute_result"
    }
   ],
   "source": [
    "#trabalhando na seleção de dados dentro do data frame (tabela) criada\n",
    "#pedindo para o python mostrar o conteudo da coluna W e X juntas\n",
    "df[['W','X']]"
   ]
  },
  {
   "cell_type": "code",
   "execution_count": 37,
   "id": "16eed198-d7d3-4443-8c3a-fb4697406fcb",
   "metadata": {},
   "outputs": [
    {
     "data": {
      "text/html": [
       "<div>\n",
       "<style scoped>\n",
       "    .dataframe tbody tr th:only-of-type {\n",
       "        vertical-align: middle;\n",
       "    }\n",
       "\n",
       "    .dataframe tbody tr th {\n",
       "        vertical-align: top;\n",
       "    }\n",
       "\n",
       "    .dataframe thead th {\n",
       "        text-align: right;\n",
       "    }\n",
       "</style>\n",
       "<table border=\"1\" class=\"dataframe\">\n",
       "  <thead>\n",
       "    <tr style=\"text-align: right;\">\n",
       "      <th></th>\n",
       "      <th>W</th>\n",
       "      <th>X</th>\n",
       "      <th>Y</th>\n",
       "      <th>Z</th>\n",
       "      <th>new</th>\n",
       "    </tr>\n",
       "  </thead>\n",
       "  <tbody>\n",
       "    <tr>\n",
       "      <th>A</th>\n",
       "      <td>1.397840</td>\n",
       "      <td>0.836632</td>\n",
       "      <td>0.680858</td>\n",
       "      <td>1.131313</td>\n",
       "      <td>2.529154</td>\n",
       "    </tr>\n",
       "    <tr>\n",
       "      <th>B</th>\n",
       "      <td>0.526963</td>\n",
       "      <td>2.281291</td>\n",
       "      <td>0.165073</td>\n",
       "      <td>0.752418</td>\n",
       "      <td>1.279381</td>\n",
       "    </tr>\n",
       "    <tr>\n",
       "      <th>C</th>\n",
       "      <td>-0.269319</td>\n",
       "      <td>-1.789297</td>\n",
       "      <td>2.261069</td>\n",
       "      <td>1.758681</td>\n",
       "      <td>1.489362</td>\n",
       "    </tr>\n",
       "    <tr>\n",
       "      <th>D</th>\n",
       "      <td>-1.351637</td>\n",
       "      <td>1.725159</td>\n",
       "      <td>1.191414</td>\n",
       "      <td>0.119577</td>\n",
       "      <td>-1.232060</td>\n",
       "    </tr>\n",
       "    <tr>\n",
       "      <th>E</th>\n",
       "      <td>-0.621136</td>\n",
       "      <td>0.393121</td>\n",
       "      <td>1.445768</td>\n",
       "      <td>0.107923</td>\n",
       "      <td>-0.513212</td>\n",
       "    </tr>\n",
       "  </tbody>\n",
       "</table>\n",
       "</div>"
      ],
      "text/plain": [
       "          W         X         Y         Z       new\n",
       "A  1.397840  0.836632  0.680858  1.131313  2.529154\n",
       "B  0.526963  2.281291  0.165073  0.752418  1.279381\n",
       "C -0.269319 -1.789297  2.261069  1.758681  1.489362\n",
       "D -1.351637  1.725159  1.191414  0.119577 -1.232060\n",
       "E -0.621136  0.393121  1.445768  0.107923 -0.513212"
      ]
     },
     "execution_count": 37,
     "metadata": {},
     "output_type": "execute_result"
    }
   ],
   "source": [
    "#abaixo é criado uma nova coluna no data frame que não existe(new), e que recebe os mesmos valores da coluna W\n",
    "# df['new'] = df['W']\n",
    "#nas linhas abaixo é criado a coluna new, porém seus valores será o resultado da soma da coluna W e Z\n",
    "df['new'] = df['W'] + df['Z']\n",
    "df"
   ]
  },
  {
   "cell_type": "code",
   "execution_count": 41,
   "id": "d6171707-8284-4aac-9c80-6f0f4db05724",
   "metadata": {},
   "outputs": [
    {
     "data": {
      "text/html": [
       "<div>\n",
       "<style scoped>\n",
       "    .dataframe tbody tr th:only-of-type {\n",
       "        vertical-align: middle;\n",
       "    }\n",
       "\n",
       "    .dataframe tbody tr th {\n",
       "        vertical-align: top;\n",
       "    }\n",
       "\n",
       "    .dataframe thead th {\n",
       "        text-align: right;\n",
       "    }\n",
       "</style>\n",
       "<table border=\"1\" class=\"dataframe\">\n",
       "  <thead>\n",
       "    <tr style=\"text-align: right;\">\n",
       "      <th></th>\n",
       "      <th>W</th>\n",
       "      <th>X</th>\n",
       "      <th>Y</th>\n",
       "      <th>Z</th>\n",
       "    </tr>\n",
       "  </thead>\n",
       "  <tbody>\n",
       "    <tr>\n",
       "      <th>A</th>\n",
       "      <td>1.397840</td>\n",
       "      <td>0.836632</td>\n",
       "      <td>0.680858</td>\n",
       "      <td>1.131313</td>\n",
       "    </tr>\n",
       "    <tr>\n",
       "      <th>B</th>\n",
       "      <td>0.526963</td>\n",
       "      <td>2.281291</td>\n",
       "      <td>0.165073</td>\n",
       "      <td>0.752418</td>\n",
       "    </tr>\n",
       "    <tr>\n",
       "      <th>C</th>\n",
       "      <td>-0.269319</td>\n",
       "      <td>-1.789297</td>\n",
       "      <td>2.261069</td>\n",
       "      <td>1.758681</td>\n",
       "    </tr>\n",
       "    <tr>\n",
       "      <th>D</th>\n",
       "      <td>-1.351637</td>\n",
       "      <td>1.725159</td>\n",
       "      <td>1.191414</td>\n",
       "      <td>0.119577</td>\n",
       "    </tr>\n",
       "    <tr>\n",
       "      <th>E</th>\n",
       "      <td>-0.621136</td>\n",
       "      <td>0.393121</td>\n",
       "      <td>1.445768</td>\n",
       "      <td>0.107923</td>\n",
       "    </tr>\n",
       "  </tbody>\n",
       "</table>\n",
       "</div>"
      ],
      "text/plain": [
       "          W         X         Y         Z\n",
       "A  1.397840  0.836632  0.680858  1.131313\n",
       "B  0.526963  2.281291  0.165073  0.752418\n",
       "C -0.269319 -1.789297  2.261069  1.758681\n",
       "D -1.351637  1.725159  1.191414  0.119577\n",
       "E -0.621136  0.393121  1.445768  0.107923"
      ]
     },
     "execution_count": 41,
     "metadata": {},
     "output_type": "execute_result"
    }
   ],
   "source": [
    "#EXEMPLO de como deletar colunas usando a função drop para tirar linha ou colunas(labels)\n",
    "# porém somente com a linha df.drop('new', axis=1) ele não retira do data frame real, é só o resultado da operação de drop\n",
    "df.drop('new', axis=1)\n"
   ]
  },
  {
   "cell_type": "code",
   "execution_count": 42,
   "id": "012201c7-8083-4c29-8166-a032d8647718",
   "metadata": {},
   "outputs": [],
   "source": [
    "#abaixo é realizado uma operação de drop em uma coluna e dando um \"commit\" no data frame oficial, retirando a\n",
    "#coluna indicada no operação\n",
    "df.drop('new', axis=1, inplace= True)"
   ]
  },
  {
   "cell_type": "code",
   "execution_count": 47,
   "id": "6a8a851b-823a-4c60-bbd8-fcf1d07e2b0b",
   "metadata": {},
   "outputs": [
    {
     "data": {
      "text/html": [
       "<div>\n",
       "<style scoped>\n",
       "    .dataframe tbody tr th:only-of-type {\n",
       "        vertical-align: middle;\n",
       "    }\n",
       "\n",
       "    .dataframe tbody tr th {\n",
       "        vertical-align: top;\n",
       "    }\n",
       "\n",
       "    .dataframe thead th {\n",
       "        text-align: right;\n",
       "    }\n",
       "</style>\n",
       "<table border=\"1\" class=\"dataframe\">\n",
       "  <thead>\n",
       "    <tr style=\"text-align: right;\">\n",
       "      <th></th>\n",
       "      <th>W</th>\n",
       "      <th>X</th>\n",
       "      <th>Y</th>\n",
       "      <th>Z</th>\n",
       "    </tr>\n",
       "  </thead>\n",
       "  <tbody>\n",
       "    <tr>\n",
       "      <th>A</th>\n",
       "      <td>1.397840</td>\n",
       "      <td>0.836632</td>\n",
       "      <td>0.680858</td>\n",
       "      <td>1.131313</td>\n",
       "    </tr>\n",
       "    <tr>\n",
       "      <th>C</th>\n",
       "      <td>-0.269319</td>\n",
       "      <td>-1.789297</td>\n",
       "      <td>2.261069</td>\n",
       "      <td>1.758681</td>\n",
       "    </tr>\n",
       "  </tbody>\n",
       "</table>\n",
       "</div>"
      ],
      "text/plain": [
       "          W         X         Y         Z\n",
       "A  1.397840  0.836632  0.680858  1.131313\n",
       "C -0.269319 -1.789297  2.261069  1.758681"
      ]
     },
     "execution_count": 47,
     "metadata": {},
     "output_type": "execute_result"
    }
   ],
   "source": [
    "#abaixo é mostrado como realizar seleção de dados de linhas do data frame com a função loc\n",
    "# pegando de uma unica linha: df.loc[['A']]\n",
    "df.loc[['A', 'C']]"
   ]
  },
  {
   "cell_type": "code",
   "execution_count": 53,
   "id": "5820b02e-4ea3-42a4-a5c2-d8555058fb61",
   "metadata": {},
   "outputs": [
    {
     "data": {
      "text/plain": [
       "0.8366322236922847"
      ]
     },
     "execution_count": 53,
     "metadata": {},
     "output_type": "execute_result"
    }
   ],
   "source": [
    "#como pegar e mostrar um dado especifico de uma posição exata da tabela em relação coluna e linha usando a iloc\n",
    "# linha x coluna (iniciando em 0,0)\n",
    "df.iloc[0,1]"
   ]
  },
  {
   "cell_type": "markdown",
   "id": "b5938f58-afef-4428-94d8-a66312e6f1f2",
   "metadata": {},
   "source": [
    "# Exercicio para criar um data frame com numeros random "
   ]
  },
  {
   "cell_type": "code",
   "execution_count": 13,
   "id": "80e67d4f-ad1e-4cd9-bf5f-03e7505a22b6",
   "metadata": {},
   "outputs": [],
   "source": [
    "import pandas as pd\n",
    "from numpy.random import randn"
   ]
  },
  {
   "cell_type": "code",
   "execution_count": 14,
   "id": "f075a34c-7706-4336-96e6-c591e401de0b",
   "metadata": {},
   "outputs": [
    {
     "data": {
      "text/html": [
       "<div>\n",
       "<style scoped>\n",
       "    .dataframe tbody tr th:only-of-type {\n",
       "        vertical-align: middle;\n",
       "    }\n",
       "\n",
       "    .dataframe tbody tr th {\n",
       "        vertical-align: top;\n",
       "    }\n",
       "\n",
       "    .dataframe thead th {\n",
       "        text-align: right;\n",
       "    }\n",
       "</style>\n",
       "<table border=\"1\" class=\"dataframe\">\n",
       "  <thead>\n",
       "    <tr style=\"text-align: right;\">\n",
       "      <th></th>\n",
       "      <th>a</th>\n",
       "      <th>b</th>\n",
       "      <th>c</th>\n",
       "      <th>d</th>\n",
       "    </tr>\n",
       "  </thead>\n",
       "  <tbody>\n",
       "    <tr>\n",
       "      <th>line1</th>\n",
       "      <td>0.578241</td>\n",
       "      <td>-0.628637</td>\n",
       "      <td>-0.605211</td>\n",
       "      <td>-0.545571</td>\n",
       "    </tr>\n",
       "    <tr>\n",
       "      <th>line2</th>\n",
       "      <td>0.635224</td>\n",
       "      <td>0.207401</td>\n",
       "      <td>1.521347</td>\n",
       "      <td>-0.868123</td>\n",
       "    </tr>\n",
       "    <tr>\n",
       "      <th>line3</th>\n",
       "      <td>0.120046</td>\n",
       "      <td>-0.518488</td>\n",
       "      <td>-2.402871</td>\n",
       "      <td>-0.721911</td>\n",
       "    </tr>\n",
       "    <tr>\n",
       "      <th>line4</th>\n",
       "      <td>0.116678</td>\n",
       "      <td>1.812335</td>\n",
       "      <td>0.938991</td>\n",
       "      <td>0.911632</td>\n",
       "    </tr>\n",
       "  </tbody>\n",
       "</table>\n",
       "</div>"
      ],
      "text/plain": [
       "              a         b         c         d\n",
       "line1  0.578241 -0.628637 -0.605211 -0.545571\n",
       "line2  0.635224  0.207401  1.521347 -0.868123\n",
       "line3  0.120046 -0.518488 -2.402871 -0.721911\n",
       "line4  0.116678  1.812335  0.938991  0.911632"
      ]
     },
     "execution_count": 14,
     "metadata": {},
     "output_type": "execute_result"
    }
   ],
   "source": [
    "#criando um data frame novo chamado table com numeros aleatórios\n",
    "table = pd.DataFrame(randn(4,4), index=['line1','line2','line3','line4'], columns='a b c d'.split())\n",
    "table"
   ]
  },
  {
   "cell_type": "code",
   "execution_count": 15,
   "id": "953b4598-fafe-4b45-8460-fa9fb66c7886",
   "metadata": {},
   "outputs": [
    {
     "data": {
      "text/html": [
       "<div>\n",
       "<style scoped>\n",
       "    .dataframe tbody tr th:only-of-type {\n",
       "        vertical-align: middle;\n",
       "    }\n",
       "\n",
       "    .dataframe tbody tr th {\n",
       "        vertical-align: top;\n",
       "    }\n",
       "\n",
       "    .dataframe thead th {\n",
       "        text-align: right;\n",
       "    }\n",
       "</style>\n",
       "<table border=\"1\" class=\"dataframe\">\n",
       "  <thead>\n",
       "    <tr style=\"text-align: right;\">\n",
       "      <th></th>\n",
       "      <th>a</th>\n",
       "      <th>b</th>\n",
       "      <th>d</th>\n",
       "    </tr>\n",
       "  </thead>\n",
       "  <tbody>\n",
       "    <tr>\n",
       "      <th>line1</th>\n",
       "      <td>0.578241</td>\n",
       "      <td>-0.628637</td>\n",
       "      <td>-0.545571</td>\n",
       "    </tr>\n",
       "    <tr>\n",
       "      <th>line2</th>\n",
       "      <td>0.635224</td>\n",
       "      <td>0.207401</td>\n",
       "      <td>-0.868123</td>\n",
       "    </tr>\n",
       "    <tr>\n",
       "      <th>line3</th>\n",
       "      <td>0.120046</td>\n",
       "      <td>-0.518488</td>\n",
       "      <td>-0.721911</td>\n",
       "    </tr>\n",
       "    <tr>\n",
       "      <th>line4</th>\n",
       "      <td>0.116678</td>\n",
       "      <td>1.812335</td>\n",
       "      <td>0.911632</td>\n",
       "    </tr>\n",
       "  </tbody>\n",
       "</table>\n",
       "</div>"
      ],
      "text/plain": [
       "              a         b         d\n",
       "line1  0.578241 -0.628637 -0.545571\n",
       "line2  0.635224  0.207401 -0.868123\n",
       "line3  0.120046 -0.518488 -0.721911\n",
       "line4  0.116678  1.812335  0.911632"
      ]
     },
     "execution_count": 15,
     "metadata": {},
     "output_type": "execute_result"
    }
   ],
   "source": [
    "#mostre os dados das colunas a, b e d\n",
    "table[['a','b','d']]"
   ]
  },
  {
   "cell_type": "code",
   "execution_count": 16,
   "id": "802773a8-df19-4404-be23-c506d850556d",
   "metadata": {},
   "outputs": [
    {
     "data": {
      "text/html": [
       "<div>\n",
       "<style scoped>\n",
       "    .dataframe tbody tr th:only-of-type {\n",
       "        vertical-align: middle;\n",
       "    }\n",
       "\n",
       "    .dataframe tbody tr th {\n",
       "        vertical-align: top;\n",
       "    }\n",
       "\n",
       "    .dataframe thead th {\n",
       "        text-align: right;\n",
       "    }\n",
       "</style>\n",
       "<table border=\"1\" class=\"dataframe\">\n",
       "  <thead>\n",
       "    <tr style=\"text-align: right;\">\n",
       "      <th></th>\n",
       "      <th>a</th>\n",
       "      <th>b</th>\n",
       "      <th>c</th>\n",
       "      <th>d</th>\n",
       "    </tr>\n",
       "  </thead>\n",
       "  <tbody>\n",
       "    <tr>\n",
       "      <th>line3</th>\n",
       "      <td>0.120046</td>\n",
       "      <td>-0.518488</td>\n",
       "      <td>-2.402871</td>\n",
       "      <td>-0.721911</td>\n",
       "    </tr>\n",
       "  </tbody>\n",
       "</table>\n",
       "</div>"
      ],
      "text/plain": [
       "              a         b         c         d\n",
       "line3  0.120046 -0.518488 -2.402871 -0.721911"
      ]
     },
     "execution_count": 16,
     "metadata": {},
     "output_type": "execute_result"
    }
   ],
   "source": [
    "#mostre somente os dados da linha 3\n",
    "table.loc[['line3']]"
   ]
  },
  {
   "cell_type": "code",
   "execution_count": 18,
   "id": "e232b641-a92f-41d7-8842-56aa4326dd74",
   "metadata": {},
   "outputs": [
    {
     "data": {
      "text/plain": [
       "-0.8681227279161033"
      ]
     },
     "execution_count": 18,
     "metadata": {},
     "output_type": "execute_result"
    }
   ],
   "source": [
    "#mostrar somente o elemento(dado) que está na linha 4 coluna b\n",
    "#table.iloc[3,1]\n",
    "table.iloc[1,3]"
   ]
  },
  {
   "cell_type": "code",
   "execution_count": 19,
   "id": "2a4e1e18-1091-4440-9b34-af2bfd712e50",
   "metadata": {},
   "outputs": [
    {
     "data": {
      "text/html": [
       "<div>\n",
       "<style scoped>\n",
       "    .dataframe tbody tr th:only-of-type {\n",
       "        vertical-align: middle;\n",
       "    }\n",
       "\n",
       "    .dataframe tbody tr th {\n",
       "        vertical-align: top;\n",
       "    }\n",
       "\n",
       "    .dataframe thead th {\n",
       "        text-align: right;\n",
       "    }\n",
       "</style>\n",
       "<table border=\"1\" class=\"dataframe\">\n",
       "  <thead>\n",
       "    <tr style=\"text-align: right;\">\n",
       "      <th></th>\n",
       "      <th>a</th>\n",
       "      <th>b</th>\n",
       "      <th>c</th>\n",
       "      <th>d</th>\n",
       "      <th>E</th>\n",
       "    </tr>\n",
       "  </thead>\n",
       "  <tbody>\n",
       "    <tr>\n",
       "      <th>line1</th>\n",
       "      <td>0.578241</td>\n",
       "      <td>-0.628637</td>\n",
       "      <td>-0.605211</td>\n",
       "      <td>-0.545571</td>\n",
       "      <td>-0.349958</td>\n",
       "    </tr>\n",
       "    <tr>\n",
       "      <th>line2</th>\n",
       "      <td>0.635224</td>\n",
       "      <td>0.207401</td>\n",
       "      <td>1.521347</td>\n",
       "      <td>-0.868123</td>\n",
       "      <td>0.966396</td>\n",
       "    </tr>\n",
       "    <tr>\n",
       "      <th>line3</th>\n",
       "      <td>0.120046</td>\n",
       "      <td>-0.518488</td>\n",
       "      <td>-2.402871</td>\n",
       "      <td>-0.721911</td>\n",
       "      <td>-0.288456</td>\n",
       "    </tr>\n",
       "    <tr>\n",
       "      <th>line4</th>\n",
       "      <td>0.116678</td>\n",
       "      <td>1.812335</td>\n",
       "      <td>0.938991</td>\n",
       "      <td>0.911632</td>\n",
       "      <td>0.109559</td>\n",
       "    </tr>\n",
       "  </tbody>\n",
       "</table>\n",
       "</div>"
      ],
      "text/plain": [
       "              a         b         c         d         E\n",
       "line1  0.578241 -0.628637 -0.605211 -0.545571 -0.349958\n",
       "line2  0.635224  0.207401  1.521347 -0.868123  0.966396\n",
       "line3  0.120046 -0.518488 -2.402871 -0.721911 -0.288456\n",
       "line4  0.116678  1.812335  0.938991  0.911632  0.109559"
      ]
     },
     "execution_count": 19,
     "metadata": {},
     "output_type": "execute_result"
    }
   ],
   "source": [
    "#adicionar uma nova coluna E que será o resultado da multiplicação de A e C \n",
    "table['E'] = table['a'] * table['c']\n",
    "table"
   ]
  },
  {
   "cell_type": "code",
   "execution_count": 27,
   "id": "ff5ae173-aed6-4308-9dd5-af644d4ffcf3",
   "metadata": {},
   "outputs": [
    {
     "data": {
      "text/html": [
       "<div>\n",
       "<style scoped>\n",
       "    .dataframe tbody tr th:only-of-type {\n",
       "        vertical-align: middle;\n",
       "    }\n",
       "\n",
       "    .dataframe tbody tr th {\n",
       "        vertical-align: top;\n",
       "    }\n",
       "\n",
       "    .dataframe thead th {\n",
       "        text-align: right;\n",
       "    }\n",
       "</style>\n",
       "<table border=\"1\" class=\"dataframe\">\n",
       "  <thead>\n",
       "    <tr style=\"text-align: right;\">\n",
       "      <th></th>\n",
       "      <th>a</th>\n",
       "      <th>b</th>\n",
       "    </tr>\n",
       "  </thead>\n",
       "  <tbody>\n",
       "    <tr>\n",
       "      <th>line1</th>\n",
       "      <td>0.578241</td>\n",
       "      <td>-0.628637</td>\n",
       "    </tr>\n",
       "    <tr>\n",
       "      <th>line4</th>\n",
       "      <td>0.116678</td>\n",
       "      <td>1.812335</td>\n",
       "    </tr>\n",
       "  </tbody>\n",
       "</table>\n",
       "</div>"
      ],
      "text/plain": [
       "              a         b\n",
       "line1  0.578241 -0.628637\n",
       "line4  0.116678  1.812335"
      ]
     },
     "execution_count": 27,
     "metadata": {},
     "output_type": "execute_result"
    }
   ],
   "source": [
    "#exibindo as colunas A, B e D do data frame\n",
    "#table[['a','b','d']]\n",
    "\n",
    "# pedindo para exibir as linhas(indices) line1 e line3 com a função loc\n",
    "#table.loc[['line1', 'line3']]\n",
    "\n",
    "#Exemplo para retornar conjunto de valores especificos com a loc, em relação as linhas(indices) e colunas(series)\n",
    "table.loc[['line1','line4'], ['a','b']]"
   ]
  },
  {
   "cell_type": "code",
   "execution_count": 48,
   "id": "ec9986d7-984c-46d4-a57e-8d4ca7a4fea4",
   "metadata": {},
   "outputs": [
    {
     "data": {
      "text/html": [
       "<div>\n",
       "<style scoped>\n",
       "    .dataframe tbody tr th:only-of-type {\n",
       "        vertical-align: middle;\n",
       "    }\n",
       "\n",
       "    .dataframe tbody tr th {\n",
       "        vertical-align: top;\n",
       "    }\n",
       "\n",
       "    .dataframe thead th {\n",
       "        text-align: right;\n",
       "    }\n",
       "</style>\n",
       "<table border=\"1\" class=\"dataframe\">\n",
       "  <thead>\n",
       "    <tr style=\"text-align: right;\">\n",
       "      <th></th>\n",
       "      <th>a</th>\n",
       "      <th>b</th>\n",
       "    </tr>\n",
       "  </thead>\n",
       "  <tbody>\n",
       "    <tr>\n",
       "      <th>line1</th>\n",
       "      <td>0.578241</td>\n",
       "      <td>-0.628637</td>\n",
       "    </tr>\n",
       "    <tr>\n",
       "      <th>line2</th>\n",
       "      <td>0.635224</td>\n",
       "      <td>0.207401</td>\n",
       "    </tr>\n",
       "    <tr>\n",
       "      <th>line3</th>\n",
       "      <td>0.120046</td>\n",
       "      <td>-0.518488</td>\n",
       "    </tr>\n",
       "  </tbody>\n",
       "</table>\n",
       "</div>"
      ],
      "text/plain": [
       "              a         b\n",
       "line1  0.578241 -0.628637\n",
       "line2  0.635224  0.207401\n",
       "line3  0.120046 -0.518488"
      ]
     },
     "execution_count": 48,
     "metadata": {},
     "output_type": "execute_result"
    }
   ],
   "source": [
    "#Como pegar todos os valores por exemplo de quase todas as linhas, somente a última linha que não, e colunas especificas\n",
    "# os : significa tudo e -1 é tirando a última coluna, e no segundo parametro os : significa selecionar todas as colunas\n",
    "table.iloc[:-1, :2] #aqui é retornado os valores somente das 3 primeiras linhas das 2 primeiras colunas"
   ]
  },
  {
   "cell_type": "code",
   "execution_count": 61,
   "id": "69969e3b-683a-4552-852c-4299923f5035",
   "metadata": {},
   "outputs": [
    {
     "data": {
      "text/html": [
       "<div>\n",
       "<style scoped>\n",
       "    .dataframe tbody tr th:only-of-type {\n",
       "        vertical-align: middle;\n",
       "    }\n",
       "\n",
       "    .dataframe tbody tr th {\n",
       "        vertical-align: top;\n",
       "    }\n",
       "\n",
       "    .dataframe thead th {\n",
       "        text-align: right;\n",
       "    }\n",
       "</style>\n",
       "<table border=\"1\" class=\"dataframe\">\n",
       "  <thead>\n",
       "    <tr style=\"text-align: right;\">\n",
       "      <th></th>\n",
       "      <th>a</th>\n",
       "      <th>b</th>\n",
       "      <th>c</th>\n",
       "    </tr>\n",
       "  </thead>\n",
       "  <tbody>\n",
       "    <tr>\n",
       "      <th>line1</th>\n",
       "      <td>0.578241</td>\n",
       "      <td>-0.628637</td>\n",
       "      <td>-0.605211</td>\n",
       "    </tr>\n",
       "    <tr>\n",
       "      <th>line2</th>\n",
       "      <td>0.635224</td>\n",
       "      <td>0.207401</td>\n",
       "      <td>1.521347</td>\n",
       "    </tr>\n",
       "  </tbody>\n",
       "</table>\n",
       "</div>"
      ],
      "text/plain": [
       "              a         b         c\n",
       "line1  0.578241 -0.628637 -0.605211\n",
       "line2  0.635224  0.207401  1.521347"
      ]
     },
     "execution_count": 61,
     "metadata": {},
     "output_type": "execute_result"
    }
   ],
   "source": [
    "table.iloc[:-2, :3] #retornando somente as 2 primeiras linhas(index) e 3 colunas(series)"
   ]
  },
  {
   "cell_type": "code",
   "execution_count": 140,
   "id": "58a87d92-cd98-4a88-ac65-cb8486787403",
   "metadata": {},
   "outputs": [
    {
     "data": {
      "text/html": [
       "<div>\n",
       "<style scoped>\n",
       "    .dataframe tbody tr th:only-of-type {\n",
       "        vertical-align: middle;\n",
       "    }\n",
       "\n",
       "    .dataframe tbody tr th {\n",
       "        vertical-align: top;\n",
       "    }\n",
       "\n",
       "    .dataframe thead th {\n",
       "        text-align: right;\n",
       "    }\n",
       "</style>\n",
       "<table border=\"1\" class=\"dataframe\">\n",
       "  <thead>\n",
       "    <tr style=\"text-align: right;\">\n",
       "      <th></th>\n",
       "      <th>c</th>\n",
       "      <th>d</th>\n",
       "    </tr>\n",
       "  </thead>\n",
       "  <tbody>\n",
       "    <tr>\n",
       "      <th>line2</th>\n",
       "      <td>1.521347</td>\n",
       "      <td>-0.868123</td>\n",
       "    </tr>\n",
       "    <tr>\n",
       "      <th>line3</th>\n",
       "      <td>-2.402871</td>\n",
       "      <td>-0.721911</td>\n",
       "    </tr>\n",
       "  </tbody>\n",
       "</table>\n",
       "</div>"
      ],
      "text/plain": [
       "              c         d\n",
       "line2  1.521347 -0.868123\n",
       "line3 -2.402871 -0.721911"
      ]
     },
     "execution_count": 140,
     "metadata": {},
     "output_type": "execute_result"
    }
   ],
   "source": [
    "#selecionando \"fatias\" de dados dentro do dataframe excluindo colunas e linhas da seleção\n",
    "\n",
    "#mostrando os valores somente começando da linha 2 e parando na 3 e mostrando somente C e D\n",
    "table.iloc[1:-1, 2:-1]"
   ]
  },
  {
   "cell_type": "code",
   "execution_count": 81,
   "id": "6777ed4c-dfa4-495b-bb83-8fc7c1b28d79",
   "metadata": {},
   "outputs": [
    {
     "data": {
      "text/html": [
       "<div>\n",
       "<style scoped>\n",
       "    .dataframe tbody tr th:only-of-type {\n",
       "        vertical-align: middle;\n",
       "    }\n",
       "\n",
       "    .dataframe tbody tr th {\n",
       "        vertical-align: top;\n",
       "    }\n",
       "\n",
       "    .dataframe thead th {\n",
       "        text-align: right;\n",
       "    }\n",
       "</style>\n",
       "<table border=\"1\" class=\"dataframe\">\n",
       "  <thead>\n",
       "    <tr style=\"text-align: right;\">\n",
       "      <th></th>\n",
       "      <th>a</th>\n",
       "      <th>d</th>\n",
       "    </tr>\n",
       "  </thead>\n",
       "  <tbody>\n",
       "    <tr>\n",
       "      <th>line1</th>\n",
       "      <td>0.578241</td>\n",
       "      <td>-0.545571</td>\n",
       "    </tr>\n",
       "    <tr>\n",
       "      <th>line3</th>\n",
       "      <td>0.120046</td>\n",
       "      <td>-0.721911</td>\n",
       "    </tr>\n",
       "  </tbody>\n",
       "</table>\n",
       "</div>"
      ],
      "text/plain": [
       "              a         d\n",
       "line1  0.578241 -0.545571\n",
       "line3  0.120046 -0.721911"
      ]
     },
     "execution_count": 81,
     "metadata": {},
     "output_type": "execute_result"
    }
   ],
   "source": [
    "table.loc[['line1', 'line3'], ['a','d']]"
   ]
  },
  {
   "cell_type": "code",
   "execution_count": 86,
   "id": "c1cffd5d-9d78-4fbd-975c-b9826604e417",
   "metadata": {},
   "outputs": [
    {
     "data": {
      "text/html": [
       "<div>\n",
       "<style scoped>\n",
       "    .dataframe tbody tr th:only-of-type {\n",
       "        vertical-align: middle;\n",
       "    }\n",
       "\n",
       "    .dataframe tbody tr th {\n",
       "        vertical-align: top;\n",
       "    }\n",
       "\n",
       "    .dataframe thead th {\n",
       "        text-align: right;\n",
       "    }\n",
       "</style>\n",
       "<table border=\"1\" class=\"dataframe\">\n",
       "  <thead>\n",
       "    <tr style=\"text-align: right;\">\n",
       "      <th></th>\n",
       "      <th>a</th>\n",
       "      <th>b</th>\n",
       "      <th>c</th>\n",
       "      <th>d</th>\n",
       "      <th>E</th>\n",
       "    </tr>\n",
       "  </thead>\n",
       "  <tbody>\n",
       "    <tr>\n",
       "      <th>line1</th>\n",
       "      <td>0.578241</td>\n",
       "      <td>-0.628637</td>\n",
       "      <td>-0.605211</td>\n",
       "      <td>-0.545571</td>\n",
       "      <td>-0.349958</td>\n",
       "    </tr>\n",
       "    <tr>\n",
       "      <th>line2</th>\n",
       "      <td>0.635224</td>\n",
       "      <td>0.207401</td>\n",
       "      <td>1.521347</td>\n",
       "      <td>-0.868123</td>\n",
       "      <td>0.966396</td>\n",
       "    </tr>\n",
       "    <tr>\n",
       "      <th>line3</th>\n",
       "      <td>0.120046</td>\n",
       "      <td>-0.518488</td>\n",
       "      <td>-2.402871</td>\n",
       "      <td>-0.721911</td>\n",
       "      <td>-0.288456</td>\n",
       "    </tr>\n",
       "    <tr>\n",
       "      <th>line4</th>\n",
       "      <td>0.116678</td>\n",
       "      <td>1.812335</td>\n",
       "      <td>0.938991</td>\n",
       "      <td>0.911632</td>\n",
       "      <td>0.109559</td>\n",
       "    </tr>\n",
       "  </tbody>\n",
       "</table>\n",
       "</div>"
      ],
      "text/plain": [
       "              a         b         c         d         E\n",
       "line1  0.578241 -0.628637 -0.605211 -0.545571 -0.349958\n",
       "line2  0.635224  0.207401  1.521347 -0.868123  0.966396\n",
       "line3  0.120046 -0.518488 -2.402871 -0.721911 -0.288456\n",
       "line4  0.116678  1.812335  0.938991  0.911632  0.109559"
      ]
     },
     "execution_count": 86,
     "metadata": {},
     "output_type": "execute_result"
    }
   ],
   "source": [
    "table"
   ]
  },
  {
   "cell_type": "code",
   "execution_count": 85,
   "id": "5a2c1237-c8fb-45f7-86ee-4efdaa7bfe93",
   "metadata": {},
   "outputs": [
    {
     "data": {
      "text/html": [
       "<div>\n",
       "<style scoped>\n",
       "    .dataframe tbody tr th:only-of-type {\n",
       "        vertical-align: middle;\n",
       "    }\n",
       "\n",
       "    .dataframe tbody tr th {\n",
       "        vertical-align: top;\n",
       "    }\n",
       "\n",
       "    .dataframe thead th {\n",
       "        text-align: right;\n",
       "    }\n",
       "</style>\n",
       "<table border=\"1\" class=\"dataframe\">\n",
       "  <thead>\n",
       "    <tr style=\"text-align: right;\">\n",
       "      <th></th>\n",
       "      <th>b</th>\n",
       "      <th>c</th>\n",
       "      <th>d</th>\n",
       "    </tr>\n",
       "  </thead>\n",
       "  <tbody>\n",
       "    <tr>\n",
       "      <th>line2</th>\n",
       "      <td>0.207401</td>\n",
       "      <td>1.521347</td>\n",
       "      <td>-0.868123</td>\n",
       "    </tr>\n",
       "    <tr>\n",
       "      <th>line3</th>\n",
       "      <td>-0.518488</td>\n",
       "      <td>-2.402871</td>\n",
       "      <td>-0.721911</td>\n",
       "    </tr>\n",
       "  </tbody>\n",
       "</table>\n",
       "</div>"
      ],
      "text/plain": [
       "              b         c         d\n",
       "line2  0.207401  1.521347 -0.868123\n",
       "line3 -0.518488 -2.402871 -0.721911"
      ]
     },
     "execution_count": 85,
     "metadata": {},
     "output_type": "execute_result"
    }
   ],
   "source": [
    "table.iloc[1:3,1:-1] #selecionando um bloco central de valores dentro do data frame, 2 parametro é referente as colunas"
   ]
  },
  {
   "cell_type": "markdown",
   "id": "ad8914f3-d3c1-47d0-8d31-16dbfedd39db",
   "metadata": {},
   "source": [
    "# Trabalhando com seleção condicional nos data frame"
   ]
  },
  {
   "cell_type": "code",
   "execution_count": 95,
   "id": "6ef67122-4550-4e48-bd6e-bfb35fdd3092",
   "metadata": {},
   "outputs": [
    {
     "data": {
      "text/html": [
       "<div>\n",
       "<style scoped>\n",
       "    .dataframe tbody tr th:only-of-type {\n",
       "        vertical-align: middle;\n",
       "    }\n",
       "\n",
       "    .dataframe tbody tr th {\n",
       "        vertical-align: top;\n",
       "    }\n",
       "\n",
       "    .dataframe thead th {\n",
       "        text-align: right;\n",
       "    }\n",
       "</style>\n",
       "<table border=\"1\" class=\"dataframe\">\n",
       "  <thead>\n",
       "    <tr style=\"text-align: right;\">\n",
       "      <th></th>\n",
       "      <th>a</th>\n",
       "      <th>b</th>\n",
       "      <th>c</th>\n",
       "      <th>d</th>\n",
       "      <th>E</th>\n",
       "    </tr>\n",
       "  </thead>\n",
       "  <tbody>\n",
       "    <tr>\n",
       "      <th>line1</th>\n",
       "      <td>NaN</td>\n",
       "      <td>NaN</td>\n",
       "      <td>NaN</td>\n",
       "      <td>NaN</td>\n",
       "      <td>NaN</td>\n",
       "    </tr>\n",
       "    <tr>\n",
       "      <th>line2</th>\n",
       "      <td>NaN</td>\n",
       "      <td>NaN</td>\n",
       "      <td>1.521347</td>\n",
       "      <td>NaN</td>\n",
       "      <td>NaN</td>\n",
       "    </tr>\n",
       "    <tr>\n",
       "      <th>line3</th>\n",
       "      <td>NaN</td>\n",
       "      <td>NaN</td>\n",
       "      <td>NaN</td>\n",
       "      <td>NaN</td>\n",
       "      <td>NaN</td>\n",
       "    </tr>\n",
       "    <tr>\n",
       "      <th>line4</th>\n",
       "      <td>NaN</td>\n",
       "      <td>1.812335</td>\n",
       "      <td>NaN</td>\n",
       "      <td>NaN</td>\n",
       "      <td>NaN</td>\n",
       "    </tr>\n",
       "  </tbody>\n",
       "</table>\n",
       "</div>"
      ],
      "text/plain": [
       "        a         b         c   d   E\n",
       "line1 NaN       NaN       NaN NaN NaN\n",
       "line2 NaN       NaN  1.521347 NaN NaN\n",
       "line3 NaN       NaN       NaN NaN NaN\n",
       "line4 NaN  1.812335       NaN NaN NaN"
      ]
     },
     "execution_count": 95,
     "metadata": {},
     "output_type": "execute_result"
    }
   ],
   "source": [
    "#Exemplo de retorno de valores que são maiores que 0 ou outro numero dentro do data frame\n",
    "#table[table > 0]\n",
    "\n",
    "table[table > 1]"
   ]
  },
  {
   "cell_type": "code",
   "execution_count": 106,
   "id": "e60be11d-e547-4890-a08e-d0d4d19c3811",
   "metadata": {},
   "outputs": [
    {
     "data": {
      "text/html": [
       "<div>\n",
       "<style scoped>\n",
       "    .dataframe tbody tr th:only-of-type {\n",
       "        vertical-align: middle;\n",
       "    }\n",
       "\n",
       "    .dataframe tbody tr th {\n",
       "        vertical-align: top;\n",
       "    }\n",
       "\n",
       "    .dataframe thead th {\n",
       "        text-align: right;\n",
       "    }\n",
       "</style>\n",
       "<table border=\"1\" class=\"dataframe\">\n",
       "  <thead>\n",
       "    <tr style=\"text-align: right;\">\n",
       "      <th></th>\n",
       "      <th>b</th>\n",
       "      <th>c</th>\n",
       "      <th>d</th>\n",
       "    </tr>\n",
       "  </thead>\n",
       "  <tbody>\n",
       "    <tr>\n",
       "      <th>line2</th>\n",
       "      <td>False</td>\n",
       "      <td>True</td>\n",
       "      <td>False</td>\n",
       "    </tr>\n",
       "    <tr>\n",
       "      <th>line3</th>\n",
       "      <td>False</td>\n",
       "      <td>False</td>\n",
       "      <td>False</td>\n",
       "    </tr>\n",
       "  </tbody>\n",
       "</table>\n",
       "</div>"
      ],
      "text/plain": [
       "           b      c      d\n",
       "line2  False   True  False\n",
       "line3  False  False  False"
      ]
     },
     "execution_count": 106,
     "metadata": {},
     "output_type": "execute_result"
    }
   ],
   "source": [
    "#pegando uma parte dos dados no meio da tabela com o iloc e verificando quais posições são maiores que 1\n",
    "table.iloc[1:3, 1:-1] > 1 "
   ]
  },
  {
   "cell_type": "code",
   "execution_count": 115,
   "id": "91f36ad7-d57a-4273-bc9a-d4286cc58ee4",
   "metadata": {},
   "outputs": [
    {
     "data": {
      "text/html": [
       "<div>\n",
       "<style scoped>\n",
       "    .dataframe tbody tr th:only-of-type {\n",
       "        vertical-align: middle;\n",
       "    }\n",
       "\n",
       "    .dataframe tbody tr th {\n",
       "        vertical-align: top;\n",
       "    }\n",
       "\n",
       "    .dataframe thead th {\n",
       "        text-align: right;\n",
       "    }\n",
       "</style>\n",
       "<table border=\"1\" class=\"dataframe\">\n",
       "  <thead>\n",
       "    <tr style=\"text-align: right;\">\n",
       "      <th></th>\n",
       "      <th>a</th>\n",
       "      <th>b</th>\n",
       "      <th>c</th>\n",
       "      <th>d</th>\n",
       "      <th>E</th>\n",
       "    </tr>\n",
       "  </thead>\n",
       "  <tbody>\n",
       "    <tr>\n",
       "      <th>line4</th>\n",
       "      <td>0.116678</td>\n",
       "      <td>1.812335</td>\n",
       "      <td>0.938991</td>\n",
       "      <td>0.911632</td>\n",
       "      <td>0.109559</td>\n",
       "    </tr>\n",
       "  </tbody>\n",
       "</table>\n",
       "</div>"
      ],
      "text/plain": [
       "              a         b         c         d         E\n",
       "line4  0.116678  1.812335  0.938991  0.911632  0.109559"
      ]
     },
     "execution_count": 115,
     "metadata": {},
     "output_type": "execute_result"
    }
   ],
   "source": [
    "#Exemp. p/ mostrar somente os valores que são maiores que 0 na coluna C, excluindo as outras linhas(indices) e colunas\n",
    "#table[table['c'] > 0]\n",
    "\n",
    "#Mostrando somente os valores da coluna B que são maiores que 1\n",
    "table[table['b'] > 1]"
   ]
  },
  {
   "cell_type": "markdown",
   "id": "030d929a-a39a-4005-ac35-a6eb4d7ad1fe",
   "metadata": {},
   "source": [
    "# Funções extras para indices (linhas)"
   ]
  },
  {
   "cell_type": "code",
   "execution_count": 147,
   "id": "54596c0f-45ef-4c01-8271-6bdbf08900ea",
   "metadata": {},
   "outputs": [],
   "source": [
    "# as duas linhas abaixo servem para consultar o nome das colunas e dos indices do data frame\n",
    "table.columns\n",
    "table.index\n",
    "\n",
    "#Ex de como alterar os nomes dos indices(linhas) do data frame usando o inplace para alterar no original\n",
    "table.reset_index(inplace=True)"
   ]
  },
  {
   "cell_type": "code",
   "execution_count": 151,
   "id": "62261718-71de-4c59-aec9-3e7066e691ff",
   "metadata": {},
   "outputs": [],
   "source": [
    "#Ex de como voltar uma alteração de indices retornando a coluna nova criada como indice do data frame\n",
    "table.set_index('index', inplace=True)"
   ]
  },
  {
   "cell_type": "code",
   "execution_count": 159,
   "id": "d2a12707-5111-40cf-89ed-eebfb2ca6636",
   "metadata": {},
   "outputs": [],
   "source": [
    "#Exemplo de como editar o nome dos indices com base a uma lista criada separada em python\n",
    "\n",
    "novo_indice = 'SP MG GO RO'.split() #criei uma lista em python contendo o titulo dos novos indices e já os separando com o split\n",
    "\n",
    "# agora é preciso passar o novo indice para tornar uma coluna no meu data frame e depois joga-lo como novo indice\n",
    "table['new_index'] = novo_indice\n",
    "\n",
    "#passando a nova coluna new_index para ser o nome dos indices do data frame\n",
    "table.set_index(\"new_index\", inplace=True)\n"
   ]
  },
  {
   "cell_type": "code",
   "execution_count": 161,
   "id": "b6811a1c-db2e-4d8a-b46d-37f992b0e82d",
   "metadata": {},
   "outputs": [
    {
     "data": {
      "text/html": [
       "<div>\n",
       "<style scoped>\n",
       "    .dataframe tbody tr th:only-of-type {\n",
       "        vertical-align: middle;\n",
       "    }\n",
       "\n",
       "    .dataframe tbody tr th {\n",
       "        vertical-align: top;\n",
       "    }\n",
       "\n",
       "    .dataframe thead th {\n",
       "        text-align: right;\n",
       "    }\n",
       "</style>\n",
       "<table border=\"1\" class=\"dataframe\">\n",
       "  <thead>\n",
       "    <tr style=\"text-align: right;\">\n",
       "      <th></th>\n",
       "      <th>a</th>\n",
       "      <th>b</th>\n",
       "      <th>c</th>\n",
       "      <th>d</th>\n",
       "      <th>E</th>\n",
       "    </tr>\n",
       "    <tr>\n",
       "      <th>new_index</th>\n",
       "      <th></th>\n",
       "      <th></th>\n",
       "      <th></th>\n",
       "      <th></th>\n",
       "      <th></th>\n",
       "    </tr>\n",
       "  </thead>\n",
       "  <tbody>\n",
       "    <tr>\n",
       "      <th>SP</th>\n",
       "      <td>0.578241</td>\n",
       "      <td>-0.628637</td>\n",
       "      <td>-0.605211</td>\n",
       "      <td>-0.545571</td>\n",
       "      <td>-0.349958</td>\n",
       "    </tr>\n",
       "    <tr>\n",
       "      <th>MG</th>\n",
       "      <td>0.635224</td>\n",
       "      <td>0.207401</td>\n",
       "      <td>1.521347</td>\n",
       "      <td>-0.868123</td>\n",
       "      <td>0.966396</td>\n",
       "    </tr>\n",
       "    <tr>\n",
       "      <th>GO</th>\n",
       "      <td>0.120046</td>\n",
       "      <td>-0.518488</td>\n",
       "      <td>-2.402871</td>\n",
       "      <td>-0.721911</td>\n",
       "      <td>-0.288456</td>\n",
       "    </tr>\n",
       "    <tr>\n",
       "      <th>RO</th>\n",
       "      <td>0.116678</td>\n",
       "      <td>1.812335</td>\n",
       "      <td>0.938991</td>\n",
       "      <td>0.911632</td>\n",
       "      <td>0.109559</td>\n",
       "    </tr>\n",
       "  </tbody>\n",
       "</table>\n",
       "</div>"
      ],
      "text/plain": [
       "                  a         b         c         d         E\n",
       "new_index                                                  \n",
       "SP         0.578241 -0.628637 -0.605211 -0.545571 -0.349958\n",
       "MG         0.635224  0.207401  1.521347 -0.868123  0.966396\n",
       "GO         0.120046 -0.518488 -2.402871 -0.721911 -0.288456\n",
       "RO         0.116678  1.812335  0.938991  0.911632  0.109559"
      ]
     },
     "execution_count": 161,
     "metadata": {},
     "output_type": "execute_result"
    }
   ],
   "source": [
    "table"
   ]
  },
  {
   "cell_type": "code",
   "execution_count": null,
   "id": "b2e70f5e-1bfa-417c-9a9e-7f922aa3165e",
   "metadata": {},
   "outputs": [],
   "source": []
  },
  {
   "cell_type": "markdown",
   "id": "cf4d0148-4b2b-488b-8b53-75cbeadae02c",
   "metadata": {},
   "source": [
    "# Exemplo de prática com data frame"
   ]
  },
  {
   "cell_type": "code",
   "execution_count": 1,
   "id": "bf57e7e9-80ce-4e00-bcdd-5e9a2fd59f09",
   "metadata": {},
   "outputs": [],
   "source": [
    "import pandas as pd\n",
    "from numpy.random import randn"
   ]
  },
  {
   "cell_type": "code",
   "execution_count": 2,
   "id": "aa49bb22-a4be-4c2f-8d44-49ec8eeb18e9",
   "metadata": {},
   "outputs": [],
   "source": [
    "df = pd.DataFrame(randn(6,6), index=['A', 'B', 'C', 'D', 'E', 'F'], columns='num1 num2 num3 num4 num5 num6'.split())"
   ]
  },
  {
   "cell_type": "code",
   "execution_count": 3,
   "id": "71c0da8c-5697-431b-b6d2-439f2408b1eb",
   "metadata": {},
   "outputs": [
    {
     "data": {
      "text/html": [
       "<div>\n",
       "<style scoped>\n",
       "    .dataframe tbody tr th:only-of-type {\n",
       "        vertical-align: middle;\n",
       "    }\n",
       "\n",
       "    .dataframe tbody tr th {\n",
       "        vertical-align: top;\n",
       "    }\n",
       "\n",
       "    .dataframe thead th {\n",
       "        text-align: right;\n",
       "    }\n",
       "</style>\n",
       "<table border=\"1\" class=\"dataframe\">\n",
       "  <thead>\n",
       "    <tr style=\"text-align: right;\">\n",
       "      <th></th>\n",
       "      <th>num1</th>\n",
       "      <th>num2</th>\n",
       "      <th>num3</th>\n",
       "      <th>num4</th>\n",
       "      <th>num5</th>\n",
       "      <th>num6</th>\n",
       "    </tr>\n",
       "  </thead>\n",
       "  <tbody>\n",
       "    <tr>\n",
       "      <th>A</th>\n",
       "      <td>0.601718</td>\n",
       "      <td>0.892456</td>\n",
       "      <td>0.273334</td>\n",
       "      <td>-1.319149</td>\n",
       "      <td>0.366694</td>\n",
       "      <td>-1.484359</td>\n",
       "    </tr>\n",
       "    <tr>\n",
       "      <th>B</th>\n",
       "      <td>-0.815722</td>\n",
       "      <td>0.708354</td>\n",
       "      <td>1.056458</td>\n",
       "      <td>1.575795</td>\n",
       "      <td>1.552516</td>\n",
       "      <td>-0.973878</td>\n",
       "    </tr>\n",
       "    <tr>\n",
       "      <th>C</th>\n",
       "      <td>-1.297998</td>\n",
       "      <td>-1.299719</td>\n",
       "      <td>0.544698</td>\n",
       "      <td>1.168898</td>\n",
       "      <td>-0.010883</td>\n",
       "      <td>0.988949</td>\n",
       "    </tr>\n",
       "    <tr>\n",
       "      <th>D</th>\n",
       "      <td>1.223095</td>\n",
       "      <td>-0.333368</td>\n",
       "      <td>0.610787</td>\n",
       "      <td>-1.447547</td>\n",
       "      <td>1.380218</td>\n",
       "      <td>-0.516949</td>\n",
       "    </tr>\n",
       "    <tr>\n",
       "      <th>E</th>\n",
       "      <td>0.464213</td>\n",
       "      <td>1.322799</td>\n",
       "      <td>-1.330940</td>\n",
       "      <td>1.733445</td>\n",
       "      <td>-2.927636</td>\n",
       "      <td>1.989029</td>\n",
       "    </tr>\n",
       "    <tr>\n",
       "      <th>F</th>\n",
       "      <td>-1.182261</td>\n",
       "      <td>0.126514</td>\n",
       "      <td>-2.006184</td>\n",
       "      <td>0.171739</td>\n",
       "      <td>-0.742565</td>\n",
       "      <td>-1.005602</td>\n",
       "    </tr>\n",
       "  </tbody>\n",
       "</table>\n",
       "</div>"
      ],
      "text/plain": [
       "       num1      num2      num3      num4      num5      num6\n",
       "A  0.601718  0.892456  0.273334 -1.319149  0.366694 -1.484359\n",
       "B -0.815722  0.708354  1.056458  1.575795  1.552516 -0.973878\n",
       "C -1.297998 -1.299719  0.544698  1.168898 -0.010883  0.988949\n",
       "D  1.223095 -0.333368  0.610787 -1.447547  1.380218 -0.516949\n",
       "E  0.464213  1.322799 -1.330940  1.733445 -2.927636  1.989029\n",
       "F -1.182261  0.126514 -2.006184  0.171739 -0.742565 -1.005602"
      ]
     },
     "execution_count": 3,
     "metadata": {},
     "output_type": "execute_result"
    }
   ],
   "source": [
    "df"
   ]
  },
  {
   "cell_type": "code",
   "execution_count": 4,
   "id": "843a4ab0-ed66-49a9-a67c-3dcec74746ae",
   "metadata": {},
   "outputs": [
    {
     "data": {
      "text/html": [
       "<div>\n",
       "<style scoped>\n",
       "    .dataframe tbody tr th:only-of-type {\n",
       "        vertical-align: middle;\n",
       "    }\n",
       "\n",
       "    .dataframe tbody tr th {\n",
       "        vertical-align: top;\n",
       "    }\n",
       "\n",
       "    .dataframe thead th {\n",
       "        text-align: right;\n",
       "    }\n",
       "</style>\n",
       "<table border=\"1\" class=\"dataframe\">\n",
       "  <thead>\n",
       "    <tr style=\"text-align: right;\">\n",
       "      <th></th>\n",
       "      <th>num1</th>\n",
       "      <th>num2</th>\n",
       "    </tr>\n",
       "  </thead>\n",
       "  <tbody>\n",
       "    <tr>\n",
       "      <th>A</th>\n",
       "      <td>0.601718</td>\n",
       "      <td>0.892456</td>\n",
       "    </tr>\n",
       "    <tr>\n",
       "      <th>B</th>\n",
       "      <td>-0.815722</td>\n",
       "      <td>0.708354</td>\n",
       "    </tr>\n",
       "    <tr>\n",
       "      <th>C</th>\n",
       "      <td>-1.297998</td>\n",
       "      <td>-1.299719</td>\n",
       "    </tr>\n",
       "    <tr>\n",
       "      <th>D</th>\n",
       "      <td>1.223095</td>\n",
       "      <td>-0.333368</td>\n",
       "    </tr>\n",
       "    <tr>\n",
       "      <th>E</th>\n",
       "      <td>0.464213</td>\n",
       "      <td>1.322799</td>\n",
       "    </tr>\n",
       "    <tr>\n",
       "      <th>F</th>\n",
       "      <td>-1.182261</td>\n",
       "      <td>0.126514</td>\n",
       "    </tr>\n",
       "  </tbody>\n",
       "</table>\n",
       "</div>"
      ],
      "text/plain": [
       "       num1      num2\n",
       "A  0.601718  0.892456\n",
       "B -0.815722  0.708354\n",
       "C -1.297998 -1.299719\n",
       "D  1.223095 -0.333368\n",
       "E  0.464213  1.322799\n",
       "F -1.182261  0.126514"
      ]
     },
     "execution_count": 4,
     "metadata": {},
     "output_type": "execute_result"
    }
   ],
   "source": [
    "df[['num1', 'num2']]"
   ]
  },
  {
   "cell_type": "code",
   "execution_count": 5,
   "id": "49d03baa-65e2-464f-b732-f584a5a77ae8",
   "metadata": {},
   "outputs": [
    {
     "data": {
      "text/html": [
       "<div>\n",
       "<style scoped>\n",
       "    .dataframe tbody tr th:only-of-type {\n",
       "        vertical-align: middle;\n",
       "    }\n",
       "\n",
       "    .dataframe tbody tr th {\n",
       "        vertical-align: top;\n",
       "    }\n",
       "\n",
       "    .dataframe thead th {\n",
       "        text-align: right;\n",
       "    }\n",
       "</style>\n",
       "<table border=\"1\" class=\"dataframe\">\n",
       "  <thead>\n",
       "    <tr style=\"text-align: right;\">\n",
       "      <th></th>\n",
       "      <th>num1</th>\n",
       "      <th>num2</th>\n",
       "      <th>num3</th>\n",
       "      <th>num4</th>\n",
       "      <th>num5</th>\n",
       "      <th>num6</th>\n",
       "    </tr>\n",
       "  </thead>\n",
       "  <tbody>\n",
       "    <tr>\n",
       "      <th>A</th>\n",
       "      <td>0.601718</td>\n",
       "      <td>0.892456</td>\n",
       "      <td>0.273334</td>\n",
       "      <td>-1.319149</td>\n",
       "      <td>0.366694</td>\n",
       "      <td>-1.484359</td>\n",
       "    </tr>\n",
       "    <tr>\n",
       "      <th>E</th>\n",
       "      <td>0.464213</td>\n",
       "      <td>1.322799</td>\n",
       "      <td>-1.330940</td>\n",
       "      <td>1.733445</td>\n",
       "      <td>-2.927636</td>\n",
       "      <td>1.989029</td>\n",
       "    </tr>\n",
       "  </tbody>\n",
       "</table>\n",
       "</div>"
      ],
      "text/plain": [
       "       num1      num2      num3      num4      num5      num6\n",
       "A  0.601718  0.892456  0.273334 -1.319149  0.366694 -1.484359\n",
       "E  0.464213  1.322799 -1.330940  1.733445 -2.927636  1.989029"
      ]
     },
     "execution_count": 5,
     "metadata": {},
     "output_type": "execute_result"
    }
   ],
   "source": [
    "df.loc[['A','E']]"
   ]
  },
  {
   "cell_type": "code",
   "execution_count": 11,
   "id": "d31c4e84-ef16-40ab-b2a7-8b8171288ae3",
   "metadata": {},
   "outputs": [
    {
     "data": {
      "text/html": [
       "<div>\n",
       "<style scoped>\n",
       "    .dataframe tbody tr th:only-of-type {\n",
       "        vertical-align: middle;\n",
       "    }\n",
       "\n",
       "    .dataframe tbody tr th {\n",
       "        vertical-align: top;\n",
       "    }\n",
       "\n",
       "    .dataframe thead th {\n",
       "        text-align: right;\n",
       "    }\n",
       "</style>\n",
       "<table border=\"1\" class=\"dataframe\">\n",
       "  <thead>\n",
       "    <tr style=\"text-align: right;\">\n",
       "      <th></th>\n",
       "      <th>num1</th>\n",
       "      <th>num2</th>\n",
       "      <th>num3</th>\n",
       "      <th>num4</th>\n",
       "      <th>num5</th>\n",
       "      <th>num6</th>\n",
       "      <th>Total</th>\n",
       "    </tr>\n",
       "  </thead>\n",
       "  <tbody>\n",
       "    <tr>\n",
       "      <th>A</th>\n",
       "      <td>0.601718</td>\n",
       "      <td>0.892456</td>\n",
       "      <td>0.273334</td>\n",
       "      <td>-1.319149</td>\n",
       "      <td>0.366694</td>\n",
       "      <td>-1.484359</td>\n",
       "      <td>-0.669305</td>\n",
       "    </tr>\n",
       "    <tr>\n",
       "      <th>B</th>\n",
       "      <td>-0.815722</td>\n",
       "      <td>0.708354</td>\n",
       "      <td>1.056458</td>\n",
       "      <td>1.575795</td>\n",
       "      <td>1.552516</td>\n",
       "      <td>-0.973878</td>\n",
       "      <td>3.103521</td>\n",
       "    </tr>\n",
       "    <tr>\n",
       "      <th>C</th>\n",
       "      <td>-1.297998</td>\n",
       "      <td>-1.299719</td>\n",
       "      <td>0.544698</td>\n",
       "      <td>1.168898</td>\n",
       "      <td>-0.010883</td>\n",
       "      <td>0.988949</td>\n",
       "      <td>0.093944</td>\n",
       "    </tr>\n",
       "    <tr>\n",
       "      <th>D</th>\n",
       "      <td>1.223095</td>\n",
       "      <td>-0.333368</td>\n",
       "      <td>0.610787</td>\n",
       "      <td>-1.447547</td>\n",
       "      <td>1.380218</td>\n",
       "      <td>-0.516949</td>\n",
       "      <td>0.916237</td>\n",
       "    </tr>\n",
       "    <tr>\n",
       "      <th>E</th>\n",
       "      <td>0.464213</td>\n",
       "      <td>1.322799</td>\n",
       "      <td>-1.330940</td>\n",
       "      <td>1.733445</td>\n",
       "      <td>-2.927636</td>\n",
       "      <td>1.989029</td>\n",
       "      <td>1.250910</td>\n",
       "    </tr>\n",
       "    <tr>\n",
       "      <th>F</th>\n",
       "      <td>-1.182261</td>\n",
       "      <td>0.126514</td>\n",
       "      <td>-2.006184</td>\n",
       "      <td>0.171739</td>\n",
       "      <td>-0.742565</td>\n",
       "      <td>-1.005602</td>\n",
       "      <td>-4.638359</td>\n",
       "    </tr>\n",
       "  </tbody>\n",
       "</table>\n",
       "</div>"
      ],
      "text/plain": [
       "       num1      num2      num3      num4      num5      num6     Total\n",
       "A  0.601718  0.892456  0.273334 -1.319149  0.366694 -1.484359 -0.669305\n",
       "B -0.815722  0.708354  1.056458  1.575795  1.552516 -0.973878  3.103521\n",
       "C -1.297998 -1.299719  0.544698  1.168898 -0.010883  0.988949  0.093944\n",
       "D  1.223095 -0.333368  0.610787 -1.447547  1.380218 -0.516949  0.916237\n",
       "E  0.464213  1.322799 -1.330940  1.733445 -2.927636  1.989029  1.250910\n",
       "F -1.182261  0.126514 -2.006184  0.171739 -0.742565 -1.005602 -4.638359"
      ]
     },
     "execution_count": 11,
     "metadata": {},
     "output_type": "execute_result"
    }
   ],
   "source": [
    "df['Total'] = df[\"num1\"]+df[\"num2\"]+df[\"num3\"]+df[\"num4\"]+df[\"num5\"]+df[\"num6\"]\n",
    "df"
   ]
  },
  {
   "cell_type": "code",
   "execution_count": 118,
   "id": "444a548a-5cae-49e7-891d-2427ca6e0363",
   "metadata": {},
   "outputs": [
    {
     "data": {
      "text/html": [
       "<div>\n",
       "<style scoped>\n",
       "    .dataframe tbody tr th:only-of-type {\n",
       "        vertical-align: middle;\n",
       "    }\n",
       "\n",
       "    .dataframe tbody tr th {\n",
       "        vertical-align: top;\n",
       "    }\n",
       "\n",
       "    .dataframe thead th {\n",
       "        text-align: right;\n",
       "    }\n",
       "</style>\n",
       "<table border=\"1\" class=\"dataframe\">\n",
       "  <thead>\n",
       "    <tr style=\"text-align: right;\">\n",
       "      <th></th>\n",
       "      <th>num4</th>\n",
       "      <th>num5</th>\n",
       "      <th>num6</th>\n",
       "    </tr>\n",
       "  </thead>\n",
       "  <tbody>\n",
       "    <tr>\n",
       "      <th>D</th>\n",
       "      <td>-1.447547</td>\n",
       "      <td>1.380218</td>\n",
       "      <td>-0.516949</td>\n",
       "    </tr>\n",
       "    <tr>\n",
       "      <th>E</th>\n",
       "      <td>1.733445</td>\n",
       "      <td>-2.927636</td>\n",
       "      <td>1.989029</td>\n",
       "    </tr>\n",
       "  </tbody>\n",
       "</table>\n",
       "</div>"
      ],
      "text/plain": [
       "       num4      num5      num6\n",
       "D -1.447547  1.380218 -0.516949\n",
       "E  1.733445 -2.927636  1.989029"
      ]
     },
     "execution_count": 118,
     "metadata": {},
     "output_type": "execute_result"
    }
   ],
   "source": [
    "df.iloc[3:-1, 3:-1]"
   ]
  },
  {
   "cell_type": "code",
   "execution_count": 129,
   "id": "74cca9ab-d258-4073-ba3c-b68f6e408b5f",
   "metadata": {},
   "outputs": [
    {
     "data": {
      "text/html": [
       "<div>\n",
       "<style scoped>\n",
       "    .dataframe tbody tr th:only-of-type {\n",
       "        vertical-align: middle;\n",
       "    }\n",
       "\n",
       "    .dataframe tbody tr th {\n",
       "        vertical-align: top;\n",
       "    }\n",
       "\n",
       "    .dataframe thead th {\n",
       "        text-align: right;\n",
       "    }\n",
       "</style>\n",
       "<table border=\"1\" class=\"dataframe\">\n",
       "  <thead>\n",
       "    <tr style=\"text-align: right;\">\n",
       "      <th></th>\n",
       "      <th>num2</th>\n",
       "      <th>num3</th>\n",
       "    </tr>\n",
       "  </thead>\n",
       "  <tbody>\n",
       "    <tr>\n",
       "      <th>E</th>\n",
       "      <td>1.322799</td>\n",
       "      <td>-1.330940</td>\n",
       "    </tr>\n",
       "    <tr>\n",
       "      <th>F</th>\n",
       "      <td>0.126514</td>\n",
       "      <td>-2.006184</td>\n",
       "    </tr>\n",
       "  </tbody>\n",
       "</table>\n",
       "</div>"
      ],
      "text/plain": [
       "       num2      num3\n",
       "E  1.322799 -1.330940\n",
       "F  0.126514 -2.006184"
      ]
     },
     "execution_count": 129,
     "metadata": {},
     "output_type": "execute_result"
    }
   ],
   "source": [
    "df.iloc[ 4: , 1:-4]"
   ]
  },
  {
   "cell_type": "code",
   "execution_count": 134,
   "id": "4a0ad50f-1584-43be-a3f4-8ed2b9502478",
   "metadata": {},
   "outputs": [
    {
     "data": {
      "text/html": [
       "<div>\n",
       "<style scoped>\n",
       "    .dataframe tbody tr th:only-of-type {\n",
       "        vertical-align: middle;\n",
       "    }\n",
       "\n",
       "    .dataframe tbody tr th {\n",
       "        vertical-align: top;\n",
       "    }\n",
       "\n",
       "    .dataframe thead th {\n",
       "        text-align: right;\n",
       "    }\n",
       "</style>\n",
       "<table border=\"1\" class=\"dataframe\">\n",
       "  <thead>\n",
       "    <tr style=\"text-align: right;\">\n",
       "      <th></th>\n",
       "      <th>num1</th>\n",
       "      <th>num2</th>\n",
       "      <th>num3</th>\n",
       "      <th>num4</th>\n",
       "      <th>num5</th>\n",
       "      <th>num6</th>\n",
       "      <th>Total</th>\n",
       "    </tr>\n",
       "  </thead>\n",
       "  <tbody>\n",
       "    <tr>\n",
       "      <th>B</th>\n",
       "      <td>-0.815722</td>\n",
       "      <td>0.708354</td>\n",
       "      <td>1.056458</td>\n",
       "      <td>1.575795</td>\n",
       "      <td>1.552516</td>\n",
       "      <td>-0.973878</td>\n",
       "      <td>3.103521</td>\n",
       "    </tr>\n",
       "  </tbody>\n",
       "</table>\n",
       "</div>"
      ],
      "text/plain": [
       "       num1      num2      num3      num4      num5      num6     Total\n",
       "B -0.815722  0.708354  1.056458  1.575795  1.552516 -0.973878  3.103521"
      ]
     },
     "execution_count": 134,
     "metadata": {},
     "output_type": "execute_result"
    }
   ],
   "source": [
    "df[df['num4'] > 1]\n",
    "\n",
    "df[df['Total'] > 1.5]"
   ]
  },
  {
   "cell_type": "code",
   "execution_count": 162,
   "id": "81cbbe89-c57b-44d5-b918-71e2bfa5e9f7",
   "metadata": {},
   "outputs": [
    {
     "data": {
      "text/html": [
       "<div>\n",
       "<style scoped>\n",
       "    .dataframe tbody tr th:only-of-type {\n",
       "        vertical-align: middle;\n",
       "    }\n",
       "\n",
       "    .dataframe tbody tr th {\n",
       "        vertical-align: top;\n",
       "    }\n",
       "\n",
       "    .dataframe thead th {\n",
       "        text-align: right;\n",
       "    }\n",
       "</style>\n",
       "<table border=\"1\" class=\"dataframe\">\n",
       "  <thead>\n",
       "    <tr style=\"text-align: right;\">\n",
       "      <th></th>\n",
       "      <th>num1</th>\n",
       "      <th>num2</th>\n",
       "      <th>num3</th>\n",
       "      <th>num4</th>\n",
       "      <th>num5</th>\n",
       "      <th>num6</th>\n",
       "      <th>Total</th>\n",
       "    </tr>\n",
       "  </thead>\n",
       "  <tbody>\n",
       "    <tr>\n",
       "      <th>B</th>\n",
       "      <td>-0.815722</td>\n",
       "      <td>0.708354</td>\n",
       "      <td>1.056458</td>\n",
       "      <td>1.575795</td>\n",
       "      <td>1.552516</td>\n",
       "      <td>-0.973878</td>\n",
       "      <td>3.103521</td>\n",
       "    </tr>\n",
       "    <tr>\n",
       "      <th>E</th>\n",
       "      <td>0.464213</td>\n",
       "      <td>1.322799</td>\n",
       "      <td>-1.330940</td>\n",
       "      <td>1.733445</td>\n",
       "      <td>-2.927636</td>\n",
       "      <td>1.989029</td>\n",
       "      <td>1.250910</td>\n",
       "    </tr>\n",
       "  </tbody>\n",
       "</table>\n",
       "</div>"
      ],
      "text/plain": [
       "       num1      num2      num3      num4      num5      num6     Total\n",
       "B -0.815722  0.708354  1.056458  1.575795  1.552516 -0.973878  3.103521\n",
       "E  0.464213  1.322799 -1.330940  1.733445 -2.927636  1.989029  1.250910"
      ]
     },
     "execution_count": 162,
     "metadata": {},
     "output_type": "execute_result"
    }
   ],
   "source": [
    "#Criando uma seleção condicional dupla entre 2 colunas, verificando uma condição nas duas juntas com & \n",
    "#onde o dado só será selecionado o indice(linha) se satisfazer a condição nas 2 colunas\n",
    "df[ (df['num4'] > 0.6) & (df['num2'] > 0.7) ]"
   ]
  },
  {
   "cell_type": "code",
   "execution_count": 139,
   "id": "a5763175-92e4-4ced-aaf4-a0fb0492dd1f",
   "metadata": {},
   "outputs": [
    {
     "data": {
      "text/html": [
       "<div>\n",
       "<style scoped>\n",
       "    .dataframe tbody tr th:only-of-type {\n",
       "        vertical-align: middle;\n",
       "    }\n",
       "\n",
       "    .dataframe tbody tr th {\n",
       "        vertical-align: top;\n",
       "    }\n",
       "\n",
       "    .dataframe thead th {\n",
       "        text-align: right;\n",
       "    }\n",
       "</style>\n",
       "<table border=\"1\" class=\"dataframe\">\n",
       "  <thead>\n",
       "    <tr style=\"text-align: right;\">\n",
       "      <th></th>\n",
       "      <th>num1</th>\n",
       "      <th>num2</th>\n",
       "      <th>num3</th>\n",
       "      <th>num4</th>\n",
       "      <th>num5</th>\n",
       "      <th>num6</th>\n",
       "      <th>Total</th>\n",
       "    </tr>\n",
       "  </thead>\n",
       "  <tbody>\n",
       "    <tr>\n",
       "      <th>E</th>\n",
       "      <td>0.464213</td>\n",
       "      <td>1.322799</td>\n",
       "      <td>-1.33094</td>\n",
       "      <td>1.733445</td>\n",
       "      <td>-2.927636</td>\n",
       "      <td>1.989029</td>\n",
       "      <td>1.25091</td>\n",
       "    </tr>\n",
       "  </tbody>\n",
       "</table>\n",
       "</div>"
      ],
      "text/plain": [
       "       num1      num2     num3      num4      num5      num6    Total\n",
       "E  0.464213  1.322799 -1.33094  1.733445 -2.927636  1.989029  1.25091"
      ]
     },
     "execution_count": 139,
     "metadata": {},
     "output_type": "execute_result"
    }
   ],
   "source": [
    "df[ (df['num2'] > 1) & ( df['num4'] > 1) ] \n"
   ]
  },
  {
   "cell_type": "code",
   "execution_count": null,
   "id": "8f75474c-20fb-4907-a7d6-f5e6b6fea8d8",
   "metadata": {},
   "outputs": [],
   "source": []
  }
 ],
 "metadata": {
  "kernelspec": {
   "display_name": "Python 3 (ipykernel)",
   "language": "python",
   "name": "python3"
  },
  "language_info": {
   "codemirror_mode": {
    "name": "ipython",
    "version": 3
   },
   "file_extension": ".py",
   "mimetype": "text/x-python",
   "name": "python",
   "nbconvert_exporter": "python",
   "pygments_lexer": "ipython3",
   "version": "3.9.13"
  }
 },
 "nbformat": 4,
 "nbformat_minor": 5
}

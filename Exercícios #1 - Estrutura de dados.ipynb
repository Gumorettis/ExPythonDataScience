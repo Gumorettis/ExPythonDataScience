{
 "cells": [
  {
   "cell_type": "markdown",
   "metadata": {},
   "source": [
    "<img src=\"https://asimov.academy/wp-content/uploads/2021/01/logo.png\" width=\"200\"/>\n",
    "_____________________________________________\n",
    "\n",
    "## Exercícios #1 - Estruturas de dados\n"
   ]
  },
  {
   "cell_type": "markdown",
   "metadata": {},
   "source": [
    "### Exercício 1\n",
    "Utilizando o built-in method input(), crie um programa que receba a altura e o peso de uma pessoa e imprima na tela o IMC da mesma."
   ]
  },
  {
   "cell_type": "code",
   "execution_count": 40,
   "metadata": {},
   "outputs": [
    {
     "name": "stdout",
     "output_type": "stream",
     "text": [
      "Digite a sua altura em metros:\n"
     ]
    },
    {
     "name": "stdin",
     "output_type": "stream",
     "text": [
      "None 1.80\n"
     ]
    },
    {
     "name": "stdout",
     "output_type": "stream",
     "text": [
      "Digite o seu peso:\n"
     ]
    },
    {
     "name": "stdin",
     "output_type": "stream",
     "text": [
      "None 73\n"
     ]
    },
    {
     "name": "stdout",
     "output_type": "stream",
     "text": [
      "Seu imc é de: 22.53\n"
     ]
    }
   ],
   "source": [
    "altura = float(input(print(\"Digite a sua altura em metros:\")))\n",
    "peso = float(input(print(\"Digite o seu peso:\")))\n",
    "\n",
    "imc = (peso/(altura**2))\n",
    "\n",
    "print(\"Seu imc é de: {:.2f}\".format(imc))"
   ]
  },
  {
   "cell_type": "markdown",
   "metadata": {},
   "source": [
    "### Exercício 2 \n",
    "Escreva um programa que pergunte o nome completo do usuário e cumprimente o mesmo pelo primeiro nome."
   ]
  },
  {
   "cell_type": "code",
   "execution_count": 42,
   "metadata": {},
   "outputs": [
    {
     "name": "stdin",
     "output_type": "stream",
     "text": [
      "Digite seu nome completo Gustavo Moretti\n"
     ]
    },
    {
     "name": "stdout",
     "output_type": "stream",
     "text": [
      "Olá Gustavo, é um prazer !\n"
     ]
    }
   ],
   "source": [
    "nome_completo = input(\"Digite seu nome completo\")\n",
    "primeiro_nome = nome_completo.split()\n",
    "print(\"Olá {}, é um prazer !\".format(primeiro_nome[0]))"
   ]
  },
  {
   "cell_type": "markdown",
   "metadata": {},
   "source": [
    "### Exercício 3\n",
    "Desenho um código que extraia o domínio de um e-mail informado."
   ]
  },
  {
   "cell_type": "code",
   "execution_count": 28,
   "metadata": {},
   "outputs": [
    {
     "name": "stdin",
     "output_type": "stream",
     "text": [
      "Digite seu email gustavo@hotmail.com\n"
     ]
    },
    {
     "name": "stdout",
     "output_type": "stream",
     "text": [
      "O dominio é: hotmail.com\n"
     ]
    }
   ],
   "source": [
    "email = input(\"Digite seu email\")\n",
    "extraido = email.split(\"@\")\n",
    "extraido\n",
    "print(\"O dominio é:\",extraido[-1])"
   ]
  },
  {
   "cell_type": "markdown",
   "metadata": {},
   "source": [
    "### Exercício 4 \n",
    "Faça um programa para uma loja de tintas. A pessoa informa a área em m2 que deseja pintar, e o script calculará a quantidade de latas de tinta que a pessoa deve comprar e o valor. Considere que cada litro de tinta pinta 3m2, que cada lata contém 18L e que custa R$ 80."
   ]
  },
  {
   "cell_type": "code",
   "execution_count": 46,
   "metadata": {},
   "outputs": [
    {
     "name": "stdin",
     "output_type": "stream",
     "text": [
      "Digite a area que deseja pintar em m2: 180\n"
     ]
    },
    {
     "name": "stdout",
     "output_type": "stream",
     "text": [
      "Você irá precisar de 3.00 latas, e o valor final da compra será: R$ 240.00\n"
     ]
    }
   ],
   "source": [
    "area = float(input('Digite a area que deseja pintar em m2:'))\n",
    "volume_necessario = area / 3\n",
    "qtd_latas = int(volume_necessario/18)\n",
    "valor_compra = qtd_latas * 80\n",
    "\n",
    "print(\"Você irá precisar de {:.2f} latas, e o valor final da compra será: R$ {:.2f}\".format(qtd_latas,valor_compra))"
   ]
  },
  {
   "cell_type": "markdown",
   "metadata": {},
   "source": [
    "### Exercício 5\n",
    "Faça um Programa que pergunte quanto você ganha por hora e o número de horas trabalhadas no mês. Calcule e mostre o total do seu salário no referido mês, sabendo-se que são descontados 11% para o Imposto de Renda, 8% para o INSS e 5% para o sindicato, faça um programa que nos dê:\n",
    "1. Salário bruto.\n",
    "2. Quanto pagou ao INSS.\n",
    "3. Quanto pagou ao sindicato.\n",
    "4. O salário líquido."
   ]
  },
  {
   "cell_type": "code",
   "execution_count": 52,
   "metadata": {},
   "outputs": [
    {
     "name": "stdin",
     "output_type": "stream",
     "text": [
      "Digite o valor da hora trabalhada: 20\n",
      "Digite a qtd de horas trabalhadas: 160\n"
     ]
    },
    {
     "name": "stdout",
     "output_type": "stream",
     "text": [
      "Desconto do Inss foi de: 227.84\n",
      "Desconto do sindicado foi de: 131.008\n",
      "Seu salario bruto é: 3200\n",
      "Valor do salario liquido final é: 2489.152\n"
     ]
    }
   ],
   "source": [
    "valor_hora = int(input(\"Digite o valor da hora trabalhada:\"))\n",
    "qtd_hora = int(input(\"Digite a qtd de horas trabalhadas:\"))\n",
    "salario_base = valor_hora*qtd_hora\n",
    "ir = salario_base*0.11\n",
    "inss = (salario_base-ir)*0.08\n",
    "sindicato = (salario_base-ir-inss)*0.05\n",
    "\n",
    "salario_final = salario_base-ir-inss-sindicato\n",
    "\n",
    "print(\"Desconto do Inss foi de:\",inss)\n",
    "print('Desconto do sindicado foi de:',sindicato)\n",
    "print(\"Seu salario bruto é:\",salario_base)\n",
    "print(\"Valor do salario liquido final é:\",salario_final)"
   ]
  },
  {
   "cell_type": "code",
   "execution_count": null,
   "metadata": {},
   "outputs": [],
   "source": []
  }
 ],
 "metadata": {
  "kernelspec": {
   "display_name": "Python 3 (ipykernel)",
   "language": "python",
   "name": "python3"
  },
  "language_info": {
   "codemirror_mode": {
    "name": "ipython",
    "version": 3
   },
   "file_extension": ".py",
   "mimetype": "text/x-python",
   "name": "python",
   "nbconvert_exporter": "python",
   "pygments_lexer": "ipython3",
   "version": "3.9.13"
  }
 },
 "nbformat": 4,
 "nbformat_minor": 4
}
